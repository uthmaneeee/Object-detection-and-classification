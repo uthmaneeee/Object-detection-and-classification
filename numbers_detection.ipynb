{
  "cells": [
    {
      "cell_type": "markdown",
      "metadata": {
        "id": "hwe-bf_66P2S"
      },
      "source": [
        "# Projet Deep Learning : Faster-RCNN pour la détection et reconnaissance de chiffres dans des images\n",
        "On souhaite réaliser la reconnaissance de séquences de chiffres manuscrits pouvant se superposer.\n",
        "La reconnaissance de ces séquences de chiffres sera réalisée à l’aide d’un réseau de type Faster-RCNN.\n",
        "Réalisé par : Othmane Nabgouri"
      ]
    },
    {
      "cell_type": "markdown",
      "metadata": {
        "id": "LlpRi2Th6byV"
      },
      "source": [
        "# Partie 1 : Génération des données\n",
        "Tout d'abord, on a bseoin d'un ensemble de données qui contiennent des images avec les objets qu'on souhaite détecter. Ces images sont des séquence de chiffres et les labels seront les chiffres correspondant à la séquence."
      ]
    },
    {
      "cell_type": "code",
      "execution_count": 1,
      "metadata": {
        "colab": {
          "base_uri": "https://localhost:8080/",
          "height": 541
        },
        "id": "4Y9YZ3X0rki5",
        "outputId": "33124abd-0e43-4ce0-8c3a-b33e07b61221"
      },
      "outputs": [
        {
          "name": "stdout",
          "output_type": "stream",
          "text": [
            "Downloading data from https://storage.googleapis.com/tensorflow/tf-keras-datasets/mnist.npz\n",
            "11490434/11490434 [==============================] - 0s 0us/step\n",
            "donne pour entrainement: 12000\n",
            "donne pour test:  2000\n",
            "Taille train 5 digits 12000\n",
            "Taille test 5 digits 2000\n"
          ]
        },
        {
          "data": {
            "image/png": "[encoded data removed]",
            "text/plain": [
              "<Figure size 640x480 with 1 Axes>"
            ]
          },
          "metadata": {},
          "output_type": "display_data"
        },
        {
          "name": "stdout",
          "output_type": "stream",
          "text": [
            "[5 0 4 1 9]\n"
          ]
        },
        {
          "data": {
            "image/png": "[encoded data removed]",
            "text/plain": [
              "<Figure size 640x480 with 1 Axes>"
            ]
          },
          "metadata": {},
          "output_type": "display_data"
        },
        {
          "name": "stdout",
          "output_type": "stream",
          "text": [
            "[7 2 1 0 4]\n"
          ]
        }
      ],
      "source": [
        "# -*- coding: utf-8 -*-\n",
        "\n",
        "import numpy as np\n",
        "from mlxtend.data import loadlocal_mnist\n",
        "from keras.datasets import mnist\n",
        "import matplotlib.pyplot as plt\n",
        "import random\n",
        "import pickle\n",
        "import sys\n",
        "np.set_printoptions(threshold=sys.maxsize)\n",
        "\n",
        "\n",
        "\n",
        "def generate_seq(x_data, y_label, Nb_seq, l_seq):\n",
        "\n",
        "    X_data = []\n",
        "    Y_label = []\n",
        "    list_des_recouv = np.zeros(Nb_seq)\n",
        "    for k in range(Nb_seq):\n",
        "        recouvrement = random.randint(5, 15) # Espace entre les séquences\n",
        "        list_des_recouv[k]=recouvrement\n",
        "\n",
        "        image = np.zeros((x_data[k*l_seq].shape[0], l_seq*x_data[k*l_seq].shape[0] - (l_seq-1)*recouvrement))\n",
        "        seq_label = np.ones(l_seq, dtype='int')\n",
        "        seq_label[0] = y_label[k * l_seq]\n",
        "        image[:, 0:D]=x_data[k * l_seq]\n",
        "        for n in range(1, l_seq):\n",
        "            image[:, n * (D - recouvrement):n * (D - recouvrement) + D] = np.maximum(image[:, n * (D - recouvrement):n * (D - recouvrement)+D],\n",
        "                                                                                     x_data[k * l_seq + n])\n",
        "            seq_label[n] = y_label[k * l_seq + n]\n",
        "            \n",
        "        X_data.append(image)\n",
        "        Y_label.append(seq_label)\n",
        "\n",
        "    return [X_data, Y_label,list_des_recouv]\n",
        "\n",
        "###############################################################################\n",
        "\n",
        "(x_train, y_train), (x_test, y_test) = mnist.load_data()\n",
        "\n",
        "Taille_train = x_train.shape[0]\n",
        "Taille_test = x_test.shape[0]\n",
        "\n",
        "###############################################################################\n",
        "# longueur des sequences de digits\n",
        "l_seq_digits = 5\n",
        "D = 28\n",
        "labels = np.unique(y_train)\n",
        "Nb_seq_train = int(Taille_train / l_seq_digits)\n",
        "Nb_seq_test = int(Taille_test / l_seq_digits)\n",
        "\n",
        "print(\"donne pour entrainement: \" + str(Nb_seq_train))\n",
        "print(f'donne pour test:  {Nb_seq_test}')\n",
        "print(\"Taille train 5 digits\", Nb_seq_train)\n",
        "print(\"Taille test 5 digits\", Nb_seq_test)\n",
        "\n",
        "\n",
        "#################################################\n",
        "X_train_seq, y_train_seq,List_recou_train = generate_seq(x_train, y_train, Nb_seq_train, l_seq_digits)  # Set d'entrainement\n",
        "plt.imshow(X_train_seq[0], cmap='gray')\n",
        "plt.show()\n",
        "print(y_train_seq[0])\n",
        "\n",
        "X_test_seq, y_test_seq,List_recou_test = generate_seq(x_test, y_test, Nb_seq_test, l_seq_digits) # Set de test\n",
        "plt.imshow(X_test_seq[0], cmap='gray')\n",
        "plt.show()\n",
        "print(y_test_seq[0])\n"
      ]
    },
    {
      "cell_type": "markdown",
      "metadata": {
        "id": "Lg20-XmC693U"
      },
      "source": [
        "# Partie 2 : COCO FORMAT\n",
        "Ensuite, il faut préparer les données pour l'entraînement. Cela peut inclure la conversion des annotations dans un format compatible avec Detectron 2 qui est le format COCO.\n",
        "Dans cette partie on :\n",
        "- Crée des répertoires ou on eregistre les données\n",
        "- Crée des dictionnaires COCO\n",
        "- Crée les fichier JSON à partir des dictionnaire COCO"
      ]
    },
    {
      "cell_type": "code",
      "execution_count": 2,
      "metadata": {
        "id": "q8kKpE_grv4-"
      },
      "outputs": [],
      "source": [
        "import os\n",
        "import json \n",
        "\n",
        "# Créer des répertoires pour les images et les annotations \n",
        "if not os.path.exists('Train_x'):\n",
        "    os.makedirs('Train_x')\n",
        "if not os.path.exists('Train_y'):\n",
        "    os.makedirs('Train_y')\n",
        "\n",
        "# Boucle qui parcoure les images et les enregistres avec les annotations correspondantes\n",
        "for i, (img, label) in enumerate(zip(X_train_seq, y_train_seq)):\n",
        "    img_filename = f'image_{i}.png'\n",
        "    img_filepath = os.path.join('Train_x', img_filename)\n",
        "    plt.imsave(img_filepath, img, cmap='gray')\n",
        "    \n",
        "    label_filename = f'label_{i}.txt'\n",
        "    label_filepath = os.path.join('Train_y', label_filename)\n",
        "    with open(label_filepath, 'w') as f:\n",
        "        f.write(' '.join(map(str, label)))\n",
        "\n",
        "# Creation du dictionnaire de format COCO\n",
        "coco_dict = {\n",
        "    \"images\": [],\n",
        "    \"annotations\": [],\n",
        "    \"categories\": []\n",
        "}\n",
        "\n",
        "# Définir les categories/Labels\n",
        "coco_dict[\"categories\"]=[]\n",
        "coco_dict[\"categories\"].append({\"id\":\"0\",\"name\":\"zero\"})\n",
        "coco_dict[\"categories\"].append({\"id\":\"1\",\"name\":\"one\"})\n",
        "coco_dict[\"categories\"].append({\"id\":\"2\",\"name\":\"two\"})\n",
        "coco_dict[\"categories\"].append({\"id\":\"3\",\"name\":\"three\"})\n",
        "coco_dict[\"categories\"].append({\"id\":\"4\",\"name\":\"four\"})\n",
        "coco_dict[\"categories\"].append({\"id\":\"5\",\"name\":\"five\"})\n",
        "coco_dict[\"categories\"].append({\"id\":\"6\",\"name\":\"six\"})\n",
        "coco_dict[\"categories\"].append({\"id\":\"7\",\"name\":\"seven\"})\n",
        "coco_dict[\"categories\"].append({\"id\":\"8\",\"name\":\"eight\"})\n",
        "coco_dict[\"categories\"].append({\"id\":\"9\",\"name\":\"nine\"})\n",
        "\n",
        "\n",
        "# Parcour des images et leurs labels\n",
        "for i, (img, label) in enumerate(zip(X_train_seq, y_train_seq)):\n",
        "    # On Ajoute les informations des images au dictionnaire COCO\n",
        "    img_filename = f'image_{i}.png'\n",
        "    img_filepath = os.path.join('Train_x', img_filename)\n",
        "    img_id = i\n",
        "    img_info = {\n",
        "        'id': img_id,\n",
        "        'width': img.shape[1],\n",
        "        'height': img.shape[0],\n",
        "        'file_name': img_filepath\n",
        "    }\n",
        "    coco_dict['images'].append(img_info)\n",
        "\n",
        "    # On Ajoute les informations d'annotation au dictionnaire COCO\n",
        "    for j in range(l_seq_digits):\n",
        "        ann_id = i*l_seq_digits + j\n",
        "        ann_info = {\n",
        "            'id': ann_id,\n",
        "            'image_id': img_id,\n",
        "            'category_id': str(label[j]), #category['id'],\n",
        "            'segmentation': [],\n",
        "            'area': img.shape[0]*img.shape[1],\n",
        "            'bbox': [j*(D-List_recou_train[i]), 0, 28, 28],\n",
        "            'iscrowd': 0,\n",
        "            'attributes': {},        \n",
        "        }\n",
        "        coco_dict['annotations'].append(ann_info)\n",
        "\n",
        "# Enregistrement du disctionnare COCO sous forme d'un fichier JSON\n",
        "with open('coco_train.json', 'w') as f:\n",
        "    json.dump(coco_dict, f,default=str) \n"
      ]
    },
    {
      "cell_type": "code",
      "execution_count": 3,
      "metadata": {
        "id": "2gdYu4eYzhO1"
      },
      "outputs": [],
      "source": [
        "# On suit les memes étapes pour les données de Test\n",
        "\n",
        "if not os.path.exists('Test_x'):\n",
        "    os.makedirs('Test_x')\n",
        "if not os.path.exists('Test_y'):\n",
        "    os.makedirs('Test_y')\n",
        "\n",
        "for i, (img, label) in enumerate(zip(X_test_seq, y_test_seq)):\n",
        "    img_filename = f'image_{i}.png'\n",
        "    img_filepath = os.path.join('Test_x', img_filename)\n",
        "    plt.imsave(img_filepath, img, cmap='gray')\n",
        "    \n",
        "    label_filename = f'label_{i}.txt'\n",
        "    label_filepath = os.path.join('Test_y', label_filename)\n",
        "    with open(label_filepath, 'w') as f:\n",
        "        f.write(' '.join(map(str, label)))\n",
        "\n",
        "\n",
        "coco_dict = {\n",
        "    \"images\": [],\n",
        "    \"annotations\": [],\n",
        "    \"categories\": []\n",
        "}\n",
        "\n",
        "coco_dict[\"categories\"]=[]\n",
        "coco_dict[\"categories\"].append({\"id\":\"0\",\"name\":\"zero\"})\n",
        "coco_dict[\"categories\"].append({\"id\":\"1\",\"name\":\"one\"})\n",
        "coco_dict[\"categories\"].append({\"id\":\"2\",\"name\":\"two\"})\n",
        "coco_dict[\"categories\"].append({\"id\":\"3\",\"name\":\"three\"})\n",
        "coco_dict[\"categories\"].append({\"id\":\"4\",\"name\":\"four\"})\n",
        "coco_dict[\"categories\"].append({\"id\":\"5\",\"name\":\"five\"})\n",
        "coco_dict[\"categories\"].append({\"id\":\"6\",\"name\":\"six\"})\n",
        "coco_dict[\"categories\"].append({\"id\":\"7\",\"name\":\"seven\"})\n",
        "coco_dict[\"categories\"].append({\"id\":\"8\",\"name\":\"eight\"})\n",
        "coco_dict[\"categories\"].append({\"id\":\"9\",\"name\":\"nine\"})\n",
        "\n",
        "\n",
        "for i, (img, label) in enumerate(zip(X_test_seq, y_test_seq)):\n",
        "    img_filename = f'image_{i}.png'\n",
        "    img_filepath = os.path.join('Test_x', img_filename)\n",
        "    img_id = i\n",
        "    img_info = {\n",
        "        'id': img_id,\n",
        "        'width': img.shape[1],\n",
        "        'height': img.shape[0],\n",
        "        'file_name': img_filepath\n",
        "    }\n",
        "    coco_dict['images'].append(img_info)\n",
        "\n",
        "    for j in range(l_seq_digits):\n",
        "        ann_id = i*l_seq_digits + j\n",
        "        ann_info = {\n",
        "            'id': ann_id,\n",
        "            'image_id': img_id,\n",
        "            'category_id': str(label[j]),\n",
        "            'segmentation': [],\n",
        "            'area': img.shape[0]*img.shape[1],\n",
        "            'bbox': [j*(D-List_recou_test[i]), 0, 28, 28],\n",
        "            'iscrowd': 0,\n",
        "            'attributes': {},    \n",
        "        }\n",
        "        coco_dict['annotations'].append(ann_info)\n",
        "\n",
        "\n",
        "with open('coco_test.json', 'w') as f:\n",
        "    json.dump(coco_dict, f,default=str) \n"
      ]
    },
    {
      "cell_type": "markdown",
      "metadata": {
        "id": "n8RntW2JXbKb"
      },
      "source": [
        "# Partie 3 : Modele training :\n",
        "Il faut ensuite configurer le modèle Faster R-CNN (définir les hyperparamètres du modèle :le nombre de couches, la taille du noyau, le taux d'apprentissage, le nombre d'itérations...). Une fois que les données et le modèle ont été configurés, il est temps de commencer l'entraînement du modèle.\n"
      ]
    },
    {
      "cell_type": "code",
      "execution_count": 4,
      "metadata": {
        "colab": {
          "base_uri": "https://localhost:8080/"
        },
        "id": "6TFCLl0twqqi",
        "outputId": "d4592c0f-1dd7-4b54-fff9-79f113bc84e5"
      },
      "outputs": [
        {
          "name": "stdout",
          "output_type": "stream",
          "text": [
            "Looking in indexes: https://pypi.org/simple, https://us-python.pkg.dev/colab-wheels/public/simple/\n",
            "Collecting pyyaml==5.1\n",
            "  Downloading PyYAML-5.1.tar.gz (274 kB)\n",
            "\u001b[2K     \u001b[90m━━━━━━━━━━━━━━━━━━━━━━━━━━━━━━━━━━━━━━━\u001b[0m \u001b[32m274.2/274.2 kB\u001b[0m \u001b[31m6.4 MB/s\u001b[0m eta \u001b[36m0:00:00\u001b[0m\n",
            "\u001b[?25h  Preparing metadata (setup.py) ... \u001b[?25l\u001b[?25hdone\n",
            "Building wheels for collected packages: pyyaml\n",
            "  Building wheel for pyyaml (setup.py) ... \u001b[?25l\u001b[?25hdone\n",
            "  Created wheel for pyyaml: filename=PyYAML-5.1-cp39-cp39-linux_x86_64.whl size=44089 sha256=44f2f56201ff638b8aa1e6df5f142099c5121f8239804789197e36b8fe68ce8b\n",
            "  Stored in directory: /root/.cache/pip/wheels/68/be/8f/b6c454cd264e0b349b47f8ee00755511f277618af9e5dae20d\n",
            "Successfully built pyyaml\n",
            "Installing collected packages: pyyaml\n",
            "  Attempting uninstall: pyyaml\n",
            "    Found existing installation: PyYAML 6.0\n",
            "    Uninstalling PyYAML-6.0:\n",
            "      Successfully uninstalled PyYAML-6.0\n",
            "\u001b[31mERROR: pip's dependency resolver does not currently take into account all the packages that are installed. This behaviour is the source of the following dependency conflicts.\n",
            "flax 0.6.8 requires PyYAML>=5.4.1, but you have pyyaml 5.1 which is incompatible.\n",
            "dask 2022.12.1 requires pyyaml>=5.3.1, but you have pyyaml 5.1 which is incompatible.\u001b[0m\u001b[31m\n",
            "\u001b[0mSuccessfully installed pyyaml-5.1\n",
            "Looking in indexes: https://pypi.org/simple, https://us-python.pkg.dev/colab-wheels/public/simple/\n",
            "Collecting git+https://github.com/facebookresearch/detectron2.git\n",
            "  Cloning https://github.com/facebookresearch/detectron2.git to /tmp/pip-req-build-ny8p2ld9\n",
            "  Running command git clone --filter=blob:none --quiet https://github.com/facebookresearch/detectron2.git /tmp/pip-req-build-ny8p2ld9\n",
            "  Resolved https://github.com/facebookresearch/detectron2.git to commit 1bc3a33a71991142c2c67bc99e1559d6101fb009\n",
            "  Preparing metadata (setup.py) ... \u001b[?25l\u001b[?25hdone\n",
            "Requirement already satisfied: Pillow>=7.1 in /usr/local/lib/python3.9/dist-packages (from detectron2==0.6) (8.4.0)\n",
            "Requirement already satisfied: matplotlib in /usr/local/lib/python3.9/dist-packages (from detectron2==0.6) (3.7.1)\n",
            "Requirement already satisfied: pycocotools>=2.0.2 in /usr/local/lib/python3.9/dist-packages (from detectron2==0.6) (2.0.6)\n",
            "Requirement already satisfied: termcolor>=1.1 in /usr/local/lib/python3.9/dist-packages (from detectron2==0.6) (2.2.0)\n",
            "Collecting yacs>=0.1.8\n",
            "  Downloading yacs-0.1.8-py3-none-any.whl (14 kB)\n",
            "Requirement already satisfied: tabulate in /usr/local/lib/python3.9/dist-packages (from detectron2==0.6) (0.8.10)\n",
            "Requirement already satisfied: cloudpickle in /usr/local/lib/python3.9/dist-packages (from detectron2==0.6) (2.2.1)\n",
            "Requirement already satisfied: tqdm>4.29.0 in /usr/local/lib/python3.9/dist-packages (from detectron2==0.6) (4.65.0)\n",
            "Requirement already satisfied: tensorboard in /usr/local/lib/python3.9/dist-packages (from detectron2==0.6) (2.12.1)\n",
            "Collecting fvcore<0.1.6,>=0.1.5\n",
            "  Downloading fvcore-0.1.5.post20221221.tar.gz (50 kB)\n",
            "\u001b[2K     \u001b[90m━━━━━━━━━━━━━━━━━━━━━━━━━━━━━━━━━━━━━━━━\u001b[0m \u001b[32m50.2/50.2 kB\u001b[0m \u001b[31m3.4 MB/s\u001b[0m eta \u001b[36m0:00:00\u001b[0m\n",
            "\u001b[?25h  Preparing metadata (setup.py) ... \u001b[?25l\u001b[?25hdone\n",
            "Collecting iopath<0.1.10,>=0.1.7\n",
            "  Downloading iopath-0.1.9-py3-none-any.whl (27 kB)\n",
            "Collecting omegaconf>=2.1\n",
            "  Downloading omegaconf-2.3.0-py3-none-any.whl (79 kB)\n",
            "\u001b[2K     \u001b[90m━━━━━━━━━━━━━━━━━━━━━━━━━━━━━━━━━━━━━━━━\u001b[0m \u001b[32m79.5/79.5 kB\u001b[0m \u001b[31m10.1 MB/s\u001b[0m eta \u001b[36m0:00:00\u001b[0m\n",
            "\u001b[?25hCollecting hydra-core>=1.1\n",
            "  Downloading hydra_core-1.3.2-py3-none-any.whl (154 kB)\n",
            "\u001b[2K     \u001b[90m━━━━━━━━━━━━━━━━━━━━━━━━━━━━━━━━━━━━━━\u001b[0m \u001b[32m154.5/154.5 kB\u001b[0m \u001b[31m19.6 MB/s\u001b[0m eta \u001b[36m0:00:00\u001b[0m\n",
            "\u001b[?25hCollecting black\n",
            "  Downloading black-23.3.0-cp39-cp39-manylinux_2_17_x86_64.manylinux2014_x86_64.whl (1.7 MB)\n",
            "\u001b[2K     \u001b[90m━━━━━━━━━━━━━━━━━━━━━━━━━━━━━━━━━━━━━━━━\u001b[0m \u001b[32m1.7/1.7 MB\u001b[0m \u001b[31m43.8 MB/s\u001b[0m eta \u001b[36m0:00:00\u001b[0m\n",
            "\u001b[?25hRequirement already satisfied: packaging in /usr/local/lib/python3.9/dist-packages (from detectron2==0.6) (23.0)\n",
            "Requirement already satisfied: numpy in /usr/local/lib/python3.9/dist-packages (from fvcore<0.1.6,>=0.1.5->detectron2==0.6) (1.22.4)\n",
            "Requirement already satisfied: pyyaml>=5.1 in /usr/local/lib/python3.9/dist-packages (from fvcore<0.1.6,>=0.1.5->detectron2==0.6) (5.1)\n",
            "Collecting antlr4-python3-runtime==4.9.*\n",
            "  Downloading antlr4-python3-runtime-4.9.3.tar.gz (117 kB)\n",
            "\u001b[2K     \u001b[90m━━━━━━━━━━━━━━━━━━━━━━━━━━━━━━━━━━━━━━\u001b[0m \u001b[32m117.0/117.0 kB\u001b[0m \u001b[31m15.2 MB/s\u001b[0m eta \u001b[36m0:00:00\u001b[0m\n",
            "\u001b[?25h  Preparing metadata (setup.py) ... \u001b[?25l\u001b[?25hdone\n",
            "Collecting portalocker\n",
            "  Downloading portalocker-2.7.0-py2.py3-none-any.whl (15 kB)\n",
            "Requirement already satisfied: contourpy>=1.0.1 in /usr/local/lib/python3.9/dist-packages (from matplotlib->detectron2==0.6) (1.0.7)\n",
            "Requirement already satisfied: importlib-resources>=3.2.0 in /usr/local/lib/python3.9/dist-packages (from matplotlib->detectron2==0.6) (5.12.0)\n",
            "Requirement already satisfied: cycler>=0.10 in /usr/local/lib/python3.9/dist-packages (from matplotlib->detectron2==0.6) (0.11.0)\n",
            "Requirement already satisfied: fonttools>=4.22.0 in /usr/local/lib/python3.9/dist-packages (from matplotlib->detectron2==0.6) (4.39.3)\n",
            "Requirement already satisfied: kiwisolver>=1.0.1 in /usr/local/lib/python3.9/dist-packages (from matplotlib->detectron2==0.6) (1.4.4)\n",
            "Requirement already satisfied: pyparsing>=2.3.1 in /usr/local/lib/python3.9/dist-packages (from matplotlib->detectron2==0.6) (3.0.9)\n",
            "Requirement already satisfied: python-dateutil>=2.7 in /usr/local/lib/python3.9/dist-packages (from matplotlib->detectron2==0.6) (2.8.2)\n",
            "Collecting pathspec>=0.9.0\n",
            "  Downloading pathspec-0.11.1-py3-none-any.whl (29 kB)\n",
            "Requirement already satisfied: click>=8.0.0 in /usr/local/lib/python3.9/dist-packages (from black->detectron2==0.6) (8.1.3)\n",
            "Requirement already satisfied: platformdirs>=2 in /usr/local/lib/python3.9/dist-packages (from black->detectron2==0.6) (3.2.0)\n",
            "Requirement already satisfied: tomli>=1.1.0 in /usr/local/lib/python3.9/dist-packages (from black->detectron2==0.6) (2.0.1)\n",
            "Collecting mypy-extensions>=0.4.3\n",
            "  Downloading mypy_extensions-1.0.0-py3-none-any.whl (4.7 kB)\n",
            "Requirement already satisfied: typing-extensions>=3.10.0.0 in /usr/local/lib/python3.9/dist-packages (from black->detectron2==0.6) (4.5.0)\n",
            "Requirement already satisfied: markdown>=2.6.8 in /usr/local/lib/python3.9/dist-packages (from tensorboard->detectron2==0.6) (3.4.3)\n",
            "Requirement already satisfied: protobuf>=3.19.6 in /usr/local/lib/python3.9/dist-packages (from tensorboard->detectron2==0.6) (3.20.3)\n",
            "Requirement already satisfied: werkzeug>=1.0.1 in /usr/local/lib/python3.9/dist-packages (from tensorboard->detectron2==0.6) (2.2.3)\n",
            "Requirement already satisfied: wheel>=0.26 in /usr/local/lib/python3.9/dist-packages (from tensorboard->detectron2==0.6) (0.40.0)\n",
            "Requirement already satisfied: google-auth<3,>=1.6.3 in /usr/local/lib/python3.9/dist-packages (from tensorboard->detectron2==0.6) (2.17.1)\n",
            "Requirement already satisfied: setuptools>=41.0.0 in /usr/local/lib/python3.9/dist-packages (from tensorboard->detectron2==0.6) (67.6.1)\n",
            "Requirement already satisfied: requests<3,>=2.21.0 in /usr/local/lib/python3.9/dist-packages (from tensorboard->detectron2==0.6) (2.27.1)\n",
            "Requirement already satisfied: google-auth-oauthlib<1.1,>=0.5 in /usr/local/lib/python3.9/dist-packages (from tensorboard->detectron2==0.6) (1.0.0)\n",
            "Requirement already satisfied: grpcio>=1.48.2 in /usr/local/lib/python3.9/dist-packages (from tensorboard->detectron2==0.6) (1.53.0)\n",
            "Requirement already satisfied: tensorboard-plugin-wit>=1.6.0 in /usr/local/lib/python3.9/dist-packages (from tensorboard->detectron2==0.6) (1.8.1)\n",
            "Requirement already satisfied: tensorboard-data-server<0.8.0,>=0.7.0 in /usr/local/lib/python3.9/dist-packages (from tensorboard->detectron2==0.6) (0.7.0)\n",
            "Requirement already satisfied: absl-py>=0.4 in /usr/local/lib/python3.9/dist-packages (from tensorboard->detectron2==0.6) (1.4.0)\n",
            "Requirement already satisfied: rsa<5,>=3.1.4 in /usr/local/lib/python3.9/dist-packages (from google-auth<3,>=1.6.3->tensorboard->detectron2==0.6) (4.9)\n",
            "Requirement already satisfied: six>=1.9.0 in /usr/local/lib/python3.9/dist-packages (from google-auth<3,>=1.6.3->tensorboard->detectron2==0.6) (1.16.0)\n",
            "Requirement already satisfied: cachetools<6.0,>=2.0.0 in /usr/local/lib/python3.9/dist-packages (from google-auth<3,>=1.6.3->tensorboard->detectron2==0.6) (5.3.0)\n",
            "Requirement already satisfied: pyasn1-modules>=0.2.1 in /usr/local/lib/python3.9/dist-packages (from google-auth<3,>=1.6.3->tensorboard->detectron2==0.6) (0.2.8)\n",
            "Requirement already satisfied: requests-oauthlib>=0.7.0 in /usr/local/lib/python3.9/dist-packages (from google-auth-oauthlib<1.1,>=0.5->tensorboard->detectron2==0.6) (1.3.1)\n",
            "Requirement already satisfied: zipp>=3.1.0 in /usr/local/lib/python3.9/dist-packages (from importlib-resources>=3.2.0->matplotlib->detectron2==0.6) (3.15.0)\n",
            "Requirement already satisfied: importlib-metadata>=4.4 in /usr/local/lib/python3.9/dist-packages (from markdown>=2.6.8->tensorboard->detectron2==0.6) (6.1.0)\n",
            "Requirement already satisfied: charset-normalizer~=2.0.0 in /usr/local/lib/python3.9/dist-packages (from requests<3,>=2.21.0->tensorboard->detectron2==0.6) (2.0.12)\n",
            "Requirement already satisfied: urllib3<1.27,>=1.21.1 in /usr/local/lib/python3.9/dist-packages (from requests<3,>=2.21.0->tensorboard->detectron2==0.6) (1.26.15)\n",
            "Requirement already satisfied: certifi>=2017.4.17 in /usr/local/lib/python3.9/dist-packages (from requests<3,>=2.21.0->tensorboard->detectron2==0.6) (2022.12.7)\n",
            "Requirement already satisfied: idna<4,>=2.5 in /usr/local/lib/python3.9/dist-packages (from requests<3,>=2.21.0->tensorboard->detectron2==0.6) (3.4)\n",
            "Requirement already satisfied: MarkupSafe>=2.1.1 in /usr/local/lib/python3.9/dist-packages (from werkzeug>=1.0.1->tensorboard->detectron2==0.6) (2.1.2)\n",
            "Requirement already satisfied: pyasn1<0.5.0,>=0.4.6 in /usr/local/lib/python3.9/dist-packages (from pyasn1-modules>=0.2.1->google-auth<3,>=1.6.3->tensorboard->detectron2==0.6) (0.4.8)\n",
            "Requirement already satisfied: oauthlib>=3.0.0 in /usr/local/lib/python3.9/dist-packages (from requests-oauthlib>=0.7.0->google-auth-oauthlib<1.1,>=0.5->tensorboard->detectron2==0.6) (3.2.2)\n",
            "Building wheels for collected packages: detectron2, fvcore, antlr4-python3-runtime\n",
            "  Building wheel for detectron2 (setup.py) ... \u001b[?25l\u001b[?25hdone\n",
            "  Created wheel for detectron2: filename=detectron2-0.6-cp39-cp39-linux_x86_64.whl size=7801619 sha256=b9192b184f1634dcf20438e2bbc00a926219e064128fa08128ae5b9aba89b408\n",
            "  Stored in directory: /tmp/pip-ephem-wheel-cache-5o76r3yw/wheels/59/b4/83/84bfca751fa4dcc59998468be8688eb50e97408a83af171d42\n",
            "  Building wheel for fvcore (setup.py) ... \u001b[?25l\u001b[?25hdone\n",
            "  Created wheel for fvcore: filename=fvcore-0.1.5.post20221221-py3-none-any.whl size=61429 sha256=9ee8f28f8103360c86ed39c502c89e00359b45014208bda9f6f2f00110b1573c\n",
            "  Stored in directory: /root/.cache/pip/wheels/83/42/02/66178d16e5c44dc26d309931834956baeda371956e86fbd876\n",
            "  Building wheel for antlr4-python3-runtime (setup.py) ... \u001b[?25l\u001b[?25hdone\n",
            "  Created wheel for antlr4-python3-runtime: filename=antlr4_python3_runtime-4.9.3-py3-none-any.whl size=144573 sha256=da9344322449cc33c361a235b4095cf598246d242598f809e90840b422078010\n",
            "  Stored in directory: /root/.cache/pip/wheels/23/cf/80/f3efa822e6ab23277902ee9165fe772eeb1dfb8014f359020a\n",
            "Successfully built detectron2 fvcore antlr4-python3-runtime\n",
            "Installing collected packages: antlr4-python3-runtime, yacs, portalocker, pathspec, omegaconf, mypy-extensions, iopath, hydra-core, black, fvcore, detectron2\n",
            "Successfully installed antlr4-python3-runtime-4.9.3 black-23.3.0 detectron2-0.6 fvcore-0.1.5.post20221221 hydra-core-1.3.2 iopath-0.1.9 mypy-extensions-1.0.0 omegaconf-2.3.0 pathspec-0.11.1 portalocker-2.7.0 yacs-0.1.8\n"
          ]
        }
      ],
      "source": [
        "!python -m pip install pyyaml==5.1\n",
        "# Detectron2 has not released pre-built binaries for the latest pytorch (https://github.com/facebookresearch/detectron2/issues/4053)\n",
        "# so we install from source instead. This takes a few minutes.\n",
        "!python -m pip install 'git+https://github.com/facebookresearch/detectron2.git'\n",
        "\n",
        "# Install pre-built detectron2 that matches pytorch version, if released:\n",
        "# See https://detectron2.readthedocs.io/tutorials/install.html for instructions\n",
        "#!pip install detectron2 -f https://dl.fbaipublicfiles.com/detectron2/wheels/{CUDA_VERSION}/{TORCH_VERSION}/index.html\n",
        "\n",
        "# exit(0)  # After installation, you may need to \"restart runtime\" in Colab. This line can also restart runtime"
      ]
    },
    {
      "cell_type": "code",
      "execution_count": 5,
      "metadata": {
        "colab": {
          "base_uri": "https://localhost:8080/"
        },
        "id": "332uh0C6xKB3",
        "outputId": "fee7005d-464b-4e4c-90c6-9d18e5aa0c31"
      },
      "outputs": [
        {
          "name": "stdout",
          "output_type": "stream",
          "text": [
            "torch:  2.0 ; cuda:  cu118\n"
          ]
        },
        {
          "name": "stderr",
          "output_type": "stream",
          "text": [
            "WARNING:detectron2.data.datasets.coco:\n",
            "Category ids in annotations are not in [1, #categories]! We'll apply a mapping for you.\n",
            "\n"
          ]
        }
      ],
      "source": [
        "#!pip install pyyaml==5.1\n",
        "#!pip install  detectron2\n",
        "import torch\n",
        "import cv2\n",
        "from detectron2.utils.colormap import random_color\n",
        "\n",
        "TORCH_VERSION = \".\".join(torch.__version__.split(\".\")[:2])\n",
        "CUDA_VERSION = torch.__version__.split(\"+\")[-1]\n",
        "print(\"torch: \", TORCH_VERSION, \"; cuda: \", CUDA_VERSION)\n",
        "#!pip install detectron2 -f https://dl.fbaipublicfiles.com/detectron2/wheels/$CUDA_VERSION/torch$TORCH_VERSION/index.html\n",
        "from google.colab.patches import cv2_imshow\n",
        "\n",
        "from detectron2.utils.visualizer import Visualizer, ColorMode\n",
        "from detectron2.data import MetadataCatalog, DatasetCatalog\n",
        "from detectron2.data.datasets import register_coco_instances\n",
        "\n",
        "## Préparation des données\n",
        "# On enregistre les données de test en format coco\n",
        "\n",
        "for data_type in [\"train\",\"test\"]: \n",
        "    reg_name=f\"mnist_detection_{data_type}\"\n",
        "    register_coco_instances(reg_name, {}, f\"coco_{data_type}.json\", \"\")\n",
        "\n",
        "mnist_detection_metadata = MetadataCatalog.get(reg_name)\n",
        "dataset_dicts = DatasetCatalog.get(reg_name)"
      ]
    },
    {
      "cell_type": "code",
      "execution_count": 6,
      "metadata": {
        "colab": {
          "base_uri": "https://localhost:8080/",
          "height": 1000
        },
        "id": "bZE0dImJBvv6",
        "outputId": "018389f3-4274-496e-c131-c824b092ce44"
      },
      "outputs": [
        {
          "name": "stdout",
          "output_type": "stream",
          "text": [
            "Test_x/image_152.png\n"
          ]
        },
        {
          "data": {
            "image/png": "[encoded data removed]",
            "text/plain": [
              "<PIL.Image.Image image mode=RGB size=448x112 at 0x7F343081DE50>"
            ]
          },
          "metadata": {},
          "output_type": "display_data"
        },
        {
          "name": "stdout",
          "output_type": "stream",
          "text": [
            "Test_x/image_997.png\n"
          ]
        },
        {
          "data": {
            "image/png": "[encoded data removed]",
            "text/plain": [
              "<PIL.Image.Image image mode=RGB size=480x112 at 0x7F343019ACA0>"
            ]
          },
          "metadata": {},
          "output_type": "display_data"
        },
        {
          "name": "stdout",
          "output_type": "stream",
          "text": [
            "Test_x/image_1612.png\n"
          ]
        },
        {
          "data": {
            "image/png": "[encoded data removed]",
            "text/plain": [
              "<PIL.Image.Image image mode=RGB size=464x112 at 0x7F342FD0ED30>"
            ]
          },
          "metadata": {},
          "output_type": "display_data"
        },
        {
          "name": "stdout",
          "output_type": "stream",
          "text": [
            "Test_x/image_851.png\n"
          ]
        },
        {
          "data": {
            "image/png": "[encoded data removed]",
            "text/plain": [
              "<PIL.Image.Image image mode=RGB size=384x112 at 0x7F34302DCD00>"
            ]
          },
          "metadata": {},
          "output_type": "display_data"
        },
        {
          "name": "stdout",
          "output_type": "stream",
          "text": [
            "Test_x/image_1699.png\n"
          ]
        },
        {
          "data": {
            "image/png": "[encoded data removed]",
            "text/plain": [
              "<PIL.Image.Image image mode=RGB size=480x112 at 0x7F3430341E80>"
            ]
          },
          "metadata": {},
          "output_type": "display_data"
        },
        {
          "name": "stdout",
          "output_type": "stream",
          "text": [
            "Test_x/image_309.png\n"
          ]
        },
        {
          "data": {
            "image/png": "[encoded data removed]",
            "text/plain": [
              "<PIL.Image.Image image mode=RGB size=336x112 at 0x7F34304944F0>"
            ]
          },
          "metadata": {},
          "output_type": "display_data"
        },
        {
          "name": "stdout",
          "output_type": "stream",
          "text": [
            "Test_x/image_995.png\n"
          ]
        },
        {
          "data": {
            "image/png": "[encoded data removed]",
            "text/plain": [
              "<PIL.Image.Image image mode=RGB size=368x112 at 0x7F3430093700>"
            ]
          },
          "metadata": {},
          "output_type": "display_data"
        },
        {
          "name": "stdout",
          "output_type": "stream",
          "text": [
            "Test_x/image_1022.png\n"
          ]
        },
        {
          "data": {
            "image/png": "[encoded data removed]",
            "text/plain": [
              "<PIL.Image.Image image mode=RGB size=480x112 at 0x7F3430528C10>"
            ]
          },
          "metadata": {},
          "output_type": "display_data"
        },
        {
          "name": "stdout",
          "output_type": "stream",
          "text": [
            "Test_x/image_996.png\n"
          ]
        },
        {
          "data": {
            "image/png": "[encoded data removed]",
            "text/plain": [
              "<PIL.Image.Image image mode=RGB size=400x112 at 0x7F34305A9D00>"
            ]
          },
          "metadata": {},
          "output_type": "display_data"
        },
        {
          "name": "stdout",
          "output_type": "stream",
          "text": [
            "Test_x/image_1498.png\n"
          ]
        },
        {
          "data": {
            "image/png": "[encoded data removed]",
            "text/plain": [
              "<PIL.Image.Image image mode=RGB size=352x112 at 0x7F3430282AF0>"
            ]
          },
          "metadata": {},
          "output_type": "display_data"
        }
      ],
      "source": [
        "# Visualisation des résultats\n",
        "for d in random.sample(dataset_dicts, 10):\n",
        "    print(d[\"file_name\"])\n",
        "    img = cv2.imread(d[\"file_name\"])\n",
        "    visualizer = Visualizer(img[:, :, ::-1], scale=4.0)\n",
        "    \n",
        "    # On écrit le label et on dessine le contour pour chaque chiffre\n",
        "    for obj in d[\"annotations\"]:\n",
        "        bbox = obj[\"bbox\"]\n",
        "        label = mnist_detection_metadata.thing_classes[obj[\"category_id\"]]\n",
        "        x_center = bbox[0] + bbox[2] / 4\n",
        "        y_center = bbox[1] + bbox[3] / 7\n",
        "        bbox_draw = [bbox[0], 0, bbox[0] + bbox[2], bbox[3] ]\n",
        "        color = random_color(rgb=True, maximum=1)\n",
        "        vis = visualizer.draw_box(bbox_draw, edge_color=color, alpha=0.5)\n",
        "        vis = visualizer.draw_text(label, (x_center, y_center),color=color)\n",
        "      \n",
        "    cv2_imshow(vis.get_image()[:, :, ::-1])"
      ]
    },
    {
      "cell_type": "code",
      "execution_count": 7,
      "metadata": {
        "colab": {
          "base_uri": "https://localhost:8080/"
        },
        "id": "oadVjZW3dENM",
        "outputId": "2b06af41-4066-4f4b-e80d-513848dab074"
      },
      "outputs": [
        {
          "name": "stdout",
          "output_type": "stream",
          "text": [
            "torch:  2.0 ; cuda:  cu118\n",
            "[04/10 23:29:03 d2.engine.defaults]: Model:\n",
            "GeneralizedRCNN(\n",
            "  (backbone): FPN(\n",
            "    (fpn_lateral2): Conv2d(256, 256, kernel_size=(1, 1), stride=(1, 1))\n",
            "    (fpn_output2): Conv2d(256, 256, kernel_size=(3, 3), stride=(1, 1), padding=(1, 1))\n",
            "    (fpn_lateral3): Conv2d(512, 256, kernel_size=(1, 1), stride=(1, 1))\n",
            "    (fpn_output3): Conv2d(256, 256, kernel_size=(3, 3), stride=(1, 1), padding=(1, 1))\n",
            "    (fpn_lateral4): Conv2d(1024, 256, kernel_size=(1, 1), stride=(1, 1))\n",
            "    (fpn_output4): Conv2d(256, 256, kernel_size=(3, 3), stride=(1, 1), padding=(1, 1))\n",
            "    (fpn_lateral5): Conv2d(2048, 256, kernel_size=(1, 1), stride=(1, 1))\n",
            "    (fpn_output5): Conv2d(256, 256, kernel_size=(3, 3), stride=(1, 1), padding=(1, 1))\n",
            "    (top_block): LastLevelMaxPool()\n",
            "    (bottom_up): ResNet(\n",
            "      (stem): BasicStem(\n",
            "        (conv1): Conv2d(\n",
            "          3, 64, kernel_size=(7, 7), stride=(2, 2), padding=(3, 3), bias=False\n",
            "          (norm): FrozenBatchNorm2d(num_features=64, eps=1e-05)\n",
            "        )\n",
            "      )\n",
            "      (res2): Sequential(\n",
            "        (0): BottleneckBlock(\n",
            "          (shortcut): Conv2d(\n",
            "            64, 256, kernel_size=(1, 1), stride=(1, 1), bias=False\n",
            "            (norm): FrozenBatchNorm2d(num_features=256, eps=1e-05)\n",
            "          )\n",
            "          (conv1): Conv2d(\n",
            "            64, 64, kernel_size=(1, 1), stride=(1, 1), bias=False\n",
            "            (norm): FrozenBatchNorm2d(num_features=64, eps=1e-05)\n",
            "          )\n",
            "          (conv2): Conv2d(\n",
            "            64, 64, kernel_size=(3, 3), stride=(1, 1), padding=(1, 1), bias=False\n",
            "            (norm): FrozenBatchNorm2d(num_features=64, eps=1e-05)\n",
            "          )\n",
            "          (conv3): Conv2d(\n",
            "            64, 256, kernel_size=(1, 1), stride=(1, 1), bias=False\n",
            "            (norm): FrozenBatchNorm2d(num_features=256, eps=1e-05)\n",
            "          )\n",
            "        )\n",
            "        (1): BottleneckBlock(\n",
            "          (conv1): Conv2d(\n",
            "            256, 64, kernel_size=(1, 1), stride=(1, 1), bias=False\n",
            "            (norm): FrozenBatchNorm2d(num_features=64, eps=1e-05)\n",
            "          )\n",
            "          (conv2): Conv2d(\n",
            "            64, 64, kernel_size=(3, 3), stride=(1, 1), padding=(1, 1), bias=False\n",
            "            (norm): FrozenBatchNorm2d(num_features=64, eps=1e-05)\n",
            "          )\n",
            "          (conv3): Conv2d(\n",
            "            64, 256, kernel_size=(1, 1), stride=(1, 1), bias=False\n",
            "            (norm): FrozenBatchNorm2d(num_features=256, eps=1e-05)\n",
            "          )\n",
            "        )\n",
            "        (2): BottleneckBlock(\n",
            "          (conv1): Conv2d(\n",
            "            256, 64, kernel_size=(1, 1), stride=(1, 1), bias=False\n",
            "            (norm): FrozenBatchNorm2d(num_features=64, eps=1e-05)\n",
            "          )\n",
            "          (conv2): Conv2d(\n",
            "            64, 64, kernel_size=(3, 3), stride=(1, 1), padding=(1, 1), bias=False\n",
            "            (norm): FrozenBatchNorm2d(num_features=64, eps=1e-05)\n",
            "          )\n",
            "          (conv3): Conv2d(\n",
            "            64, 256, kernel_size=(1, 1), stride=(1, 1), bias=False\n",
            "            (norm): FrozenBatchNorm2d(num_features=256, eps=1e-05)\n",
            "          )\n",
            "        )\n",
            "      )\n",
            "      (res3): Sequential(\n",
            "        (0): BottleneckBlock(\n",
            "          (shortcut): Conv2d(\n",
            "            256, 512, kernel_size=(1, 1), stride=(2, 2), bias=False\n",
            "            (norm): FrozenBatchNorm2d(num_features=512, eps=1e-05)\n",
            "          )\n",
            "          (conv1): Conv2d(\n",
            "            256, 128, kernel_size=(1, 1), stride=(2, 2), bias=False\n",
            "            (norm): FrozenBatchNorm2d(num_features=128, eps=1e-05)\n",
            "          )\n",
            "          (conv2): Conv2d(\n",
            "            128, 128, kernel_size=(3, 3), stride=(1, 1), padding=(1, 1), bias=False\n",
            "            (norm): FrozenBatchNorm2d(num_features=128, eps=1e-05)\n",
            "          )\n",
            "          (conv3): Conv2d(\n",
            "            128, 512, kernel_size=(1, 1), stride=(1, 1), bias=False\n",
            "            (norm): FrozenBatchNorm2d(num_features=512, eps=1e-05)\n",
            "          )\n",
            "        )\n",
            "        (1): BottleneckBlock(\n",
            "          (conv1): Conv2d(\n",
            "            512, 128, kernel_size=(1, 1), stride=(1, 1), bias=False\n",
            "            (norm): FrozenBatchNorm2d(num_features=128, eps=1e-05)\n",
            "          )\n",
            "          (conv2): Conv2d(\n",
            "            128, 128, kernel_size=(3, 3), stride=(1, 1), padding=(1, 1), bias=False\n",
            "            (norm): FrozenBatchNorm2d(num_features=128, eps=1e-05)\n",
            "          )\n",
            "          (conv3): Conv2d(\n",
            "            128, 512, kernel_size=(1, 1), stride=(1, 1), bias=False\n",
            "            (norm): FrozenBatchNorm2d(num_features=512, eps=1e-05)\n",
            "          )\n",
            "        )\n",
            "        (2): BottleneckBlock(\n",
            "          (conv1): Conv2d(\n",
            "            512, 128, kernel_size=(1, 1), stride=(1, 1), bias=False\n",
            "            (norm): FrozenBatchNorm2d(num_features=128, eps=1e-05)\n",
            "          )\n",
            "          (conv2): Conv2d(\n",
            "            128, 128, kernel_size=(3, 3), stride=(1, 1), padding=(1, 1), bias=False\n",
            "            (norm): FrozenBatchNorm2d(num_features=128, eps=1e-05)\n",
            "          )\n",
            "          (conv3): Conv2d(\n",
            "            128, 512, kernel_size=(1, 1), stride=(1, 1), bias=False\n",
            "            (norm): FrozenBatchNorm2d(num_features=512, eps=1e-05)\n",
            "          )\n",
            "        )\n",
            "        (3): BottleneckBlock(\n",
            "          (conv1): Conv2d(\n",
            "            512, 128, kernel_size=(1, 1), stride=(1, 1), bias=False\n",
            "            (norm): FrozenBatchNorm2d(num_features=128, eps=1e-05)\n",
            "          )\n",
            "          (conv2): Conv2d(\n",
            "            128, 128, kernel_size=(3, 3), stride=(1, 1), padding=(1, 1), bias=False\n",
            "            (norm): FrozenBatchNorm2d(num_features=128, eps=1e-05)\n",
            "          )\n",
            "          (conv3): Conv2d(\n",
            "            128, 512, kernel_size=(1, 1), stride=(1, 1), bias=False\n",
            "            (norm): FrozenBatchNorm2d(num_features=512, eps=1e-05)\n",
            "          )\n",
            "        )\n",
            "      )\n",
            "      (res4): Sequential(\n",
            "        (0): BottleneckBlock(\n",
            "          (shortcut): Conv2d(\n",
            "            512, 1024, kernel_size=(1, 1), stride=(2, 2), bias=False\n",
            "            (norm): FrozenBatchNorm2d(num_features=1024, eps=1e-05)\n",
            "          )\n",
            "          (conv1): Conv2d(\n",
            "            512, 256, kernel_size=(1, 1), stride=(2, 2), bias=False\n",
            "            (norm): FrozenBatchNorm2d(num_features=256, eps=1e-05)\n",
            "          )\n",
            "          (conv2): Conv2d(\n",
            "            256, 256, kernel_size=(3, 3), stride=(1, 1), padding=(1, 1), bias=False\n",
            "            (norm): FrozenBatchNorm2d(num_features=256, eps=1e-05)\n",
            "          )\n",
            "          (conv3): Conv2d(\n",
            "            256, 1024, kernel_size=(1, 1), stride=(1, 1), bias=False\n",
            "            (norm): FrozenBatchNorm2d(num_features=1024, eps=1e-05)\n",
            "          )\n",
            "        )\n",
            "        (1): BottleneckBlock(\n",
            "          (conv1): Conv2d(\n",
            "            1024, 256, kernel_size=(1, 1), stride=(1, 1), bias=False\n",
            "            (norm): FrozenBatchNorm2d(num_features=256, eps=1e-05)\n",
            "          )\n",
            "          (conv2): Conv2d(\n",
            "            256, 256, kernel_size=(3, 3), stride=(1, 1), padding=(1, 1), bias=False\n",
            "            (norm): FrozenBatchNorm2d(num_features=256, eps=1e-05)\n",
            "          )\n",
            "          (conv3): Conv2d(\n",
            "            256, 1024, kernel_size=(1, 1), stride=(1, 1), bias=False\n",
            "            (norm): FrozenBatchNorm2d(num_features=1024, eps=1e-05)\n",
            "          )\n",
            "        )\n",
            "        (2): BottleneckBlock(\n",
            "          (conv1): Conv2d(\n",
            "            1024, 256, kernel_size=(1, 1), stride=(1, 1), bias=False\n",
            "            (norm): FrozenBatchNorm2d(num_features=256, eps=1e-05)\n",
            "          )\n",
            "          (conv2): Conv2d(\n",
            "            256, 256, kernel_size=(3, 3), stride=(1, 1), padding=(1, 1), bias=False\n",
            "            (norm): FrozenBatchNorm2d(num_features=256, eps=1e-05)\n",
            "          )\n",
            "          (conv3): Conv2d(\n",
            "            256, 1024, kernel_size=(1, 1), stride=(1, 1), bias=False\n",
            "            (norm): FrozenBatchNorm2d(num_features=1024, eps=1e-05)\n",
            "          )\n",
            "        )\n",
            "        (3): BottleneckBlock(\n",
            "          (conv1): Conv2d(\n",
            "            1024, 256, kernel_size=(1, 1), stride=(1, 1), bias=False\n",
            "            (norm): FrozenBatchNorm2d(num_features=256, eps=1e-05)\n",
            "          )\n",
            "          (conv2): Conv2d(\n",
            "            256, 256, kernel_size=(3, 3), stride=(1, 1), padding=(1, 1), bias=False\n",
            "            (norm): FrozenBatchNorm2d(num_features=256, eps=1e-05)\n",
            "          )\n",
            "          (conv3): Conv2d(\n",
            "            256, 1024, kernel_size=(1, 1), stride=(1, 1), bias=False\n",
            "            (norm): FrozenBatchNorm2d(num_features=1024, eps=1e-05)\n",
            "          )\n",
            "        )\n",
            "        (4): BottleneckBlock(\n",
            "          (conv1): Conv2d(\n",
            "            1024, 256, kernel_size=(1, 1), stride=(1, 1), bias=False\n",
            "            (norm): FrozenBatchNorm2d(num_features=256, eps=1e-05)\n",
            "          )\n",
            "          (conv2): Conv2d(\n",
            "            256, 256, kernel_size=(3, 3), stride=(1, 1), padding=(1, 1), bias=False\n",
            "            (norm): FrozenBatchNorm2d(num_features=256, eps=1e-05)\n",
            "          )\n",
            "          (conv3): Conv2d(\n",
            "            256, 1024, kernel_size=(1, 1), stride=(1, 1), bias=False\n",
            "            (norm): FrozenBatchNorm2d(num_features=1024, eps=1e-05)\n",
            "          )\n",
            "        )\n",
            "        (5): BottleneckBlock(\n",
            "          (conv1): Conv2d(\n",
            "            1024, 256, kernel_size=(1, 1), stride=(1, 1), bias=False\n",
            "            (norm): FrozenBatchNorm2d(num_features=256, eps=1e-05)\n",
            "          )\n",
            "          (conv2): Conv2d(\n",
            "            256, 256, kernel_size=(3, 3), stride=(1, 1), padding=(1, 1), bias=False\n",
            "            (norm): FrozenBatchNorm2d(num_features=256, eps=1e-05)\n",
            "          )\n",
            "          (conv3): Conv2d(\n",
            "            256, 1024, kernel_size=(1, 1), stride=(1, 1), bias=False\n",
            "            (norm): FrozenBatchNorm2d(num_features=1024, eps=1e-05)\n",
            "          )\n",
            "        )\n",
            "      )\n",
            "      (res5): Sequential(\n",
            "        (0): BottleneckBlock(\n",
            "          (shortcut): Conv2d(\n",
            "            1024, 2048, kernel_size=(1, 1), stride=(2, 2), bias=False\n",
            "            (norm): FrozenBatchNorm2d(num_features=2048, eps=1e-05)\n",
            "          )\n",
            "          (conv1): Conv2d(\n",
            "            1024, 512, kernel_size=(1, 1), stride=(2, 2), bias=False\n",
            "            (norm): FrozenBatchNorm2d(num_features=512, eps=1e-05)\n",
            "          )\n",
            "          (conv2): Conv2d(\n",
            "            512, 512, kernel_size=(3, 3), stride=(1, 1), padding=(1, 1), bias=False\n",
            "            (norm): FrozenBatchNorm2d(num_features=512, eps=1e-05)\n",
            "          )\n",
            "          (conv3): Conv2d(\n",
            "            512, 2048, kernel_size=(1, 1), stride=(1, 1), bias=False\n",
            "            (norm): FrozenBatchNorm2d(num_features=2048, eps=1e-05)\n",
            "          )\n",
            "        )\n",
            "        (1): BottleneckBlock(\n",
            "          (conv1): Conv2d(\n",
            "            2048, 512, kernel_size=(1, 1), stride=(1, 1), bias=False\n",
            "            (norm): FrozenBatchNorm2d(num_features=512, eps=1e-05)\n",
            "          )\n",
            "          (conv2): Conv2d(\n",
            "            512, 512, kernel_size=(3, 3), stride=(1, 1), padding=(1, 1), bias=False\n",
            "            (norm): FrozenBatchNorm2d(num_features=512, eps=1e-05)\n",
            "          )\n",
            "          (conv3): Conv2d(\n",
            "            512, 2048, kernel_size=(1, 1), stride=(1, 1), bias=False\n",
            "            (norm): FrozenBatchNorm2d(num_features=2048, eps=1e-05)\n",
            "          )\n",
            "        )\n",
            "        (2): BottleneckBlock(\n",
            "          (conv1): Conv2d(\n",
            "            2048, 512, kernel_size=(1, 1), stride=(1, 1), bias=False\n",
            "            (norm): FrozenBatchNorm2d(num_features=512, eps=1e-05)\n",
            "          )\n",
            "          (conv2): Conv2d(\n",
            "            512, 512, kernel_size=(3, 3), stride=(1, 1), padding=(1, 1), bias=False\n",
            "            (norm): FrozenBatchNorm2d(num_features=512, eps=1e-05)\n",
            "          )\n",
            "          (conv3): Conv2d(\n",
            "            512, 2048, kernel_size=(1, 1), stride=(1, 1), bias=False\n",
            "            (norm): FrozenBatchNorm2d(num_features=2048, eps=1e-05)\n",
            "          )\n",
            "        )\n",
            "      )\n",
            "    )\n",
            "  )\n",
            "  (proposal_generator): RPN(\n",
            "    (rpn_head): StandardRPNHead(\n",
            "      (conv): Conv2d(\n",
            "        256, 256, kernel_size=(3, 3), stride=(1, 1), padding=(1, 1)\n",
            "        (activation): ReLU()\n",
            "      )\n",
            "      (objectness_logits): Conv2d(256, 3, kernel_size=(1, 1), stride=(1, 1))\n",
            "      (anchor_deltas): Conv2d(256, 12, kernel_size=(1, 1), stride=(1, 1))\n",
            "    )\n",
            "    (anchor_generator): DefaultAnchorGenerator(\n",
            "      (cell_anchors): BufferList()\n",
            "    )\n",
            "  )\n",
            "  (roi_heads): StandardROIHeads(\n",
            "    (box_pooler): ROIPooler(\n",
            "      (level_poolers): ModuleList(\n",
            "        (0): ROIAlign(output_size=(7, 7), spatial_scale=0.25, sampling_ratio=0, aligned=True)\n",
            "        (1): ROIAlign(output_size=(7, 7), spatial_scale=0.125, sampling_ratio=0, aligned=True)\n",
            "        (2): ROIAlign(output_size=(7, 7), spatial_scale=0.0625, sampling_ratio=0, aligned=True)\n",
            "        (3): ROIAlign(output_size=(7, 7), spatial_scale=0.03125, sampling_ratio=0, aligned=True)\n",
            "      )\n",
            "    )\n",
            "    (box_head): FastRCNNConvFCHead(\n",
            "      (flatten): Flatten(start_dim=1, end_dim=-1)\n",
            "      (fc1): Linear(in_features=12544, out_features=1024, bias=True)\n",
            "      (fc_relu1): ReLU()\n",
            "      (fc2): Linear(in_features=1024, out_features=1024, bias=True)\n",
            "      (fc_relu2): ReLU()\n",
            "    )\n",
            "    (box_predictor): FastRCNNOutputLayers(\n",
            "      (cls_score): Linear(in_features=1024, out_features=11, bias=True)\n",
            "      (bbox_pred): Linear(in_features=1024, out_features=40, bias=True)\n",
            "    )\n",
            "  )\n",
            ")\n",
            "WARNING [04/10 23:29:04 d2.data.datasets.coco]: \n",
            "Category ids in annotations are not in [1, #categories]! We'll apply a mapping for you.\n",
            "\n",
            "[04/10 23:29:04 d2.data.datasets.coco]: Loaded 12000 images in COCO format from coco_train.json\n",
            "[04/10 23:29:04 d2.data.build]: Removed 0 images with no usable annotations. 12000 images left.\n",
            "[04/10 23:29:05 d2.data.build]: Distribution of instances among all 10 categories:\n",
            "|  category  | #instances   |  category  | #instances   |  category  | #instances   |\n",
            "|:----------:|:-------------|:----------:|:-------------|:----------:|:-------------|\n",
            "|    zero    | 5923         |    one     | 6742         |    two     | 5958         |\n",
            "|   three    | 6131         |    four    | 5842         |    five    | 5421         |\n",
            "|    six     | 5918         |   seven    | 6265         |   eight    | 5851         |\n",
            "|    nine    | 5949         |            |              |            |              |\n",
            "|   total    | 60000        |            |              |            |              |\n",
            "[04/10 23:29:05 d2.data.dataset_mapper]: [DatasetMapper] Augmentations used in training: [ResizeShortestEdge(short_edge_length=(640, 672, 704, 736, 768, 800), max_size=1333, sample_style='choice'), RandomFlip()]\n",
            "[04/10 23:29:05 d2.data.build]: Using training sampler TrainingSampler\n",
            "[04/10 23:29:05 d2.data.common]: Serializing the dataset using: <class 'detectron2.data.common._TorchSerializedList'>\n",
            "[04/10 23:29:05 d2.data.common]: Serializing 12000 elements to byte tensors and concatenating them all ...\n",
            "[04/10 23:29:05 d2.data.common]: Serialized dataset takes 4.26 MiB\n",
            "WARNING [04/10 23:29:05 d2.solver.build]: SOLVER.STEPS contains values larger than SOLVER.MAX_ITER. These values will be ignored.\n",
            "[04/10 23:29:05 d2.checkpoint.detection_checkpoint]: [DetectionCheckpointer] Loading from https://dl.fbaipublicfiles.com/detectron2/COCO-Detection/faster_rcnn_R_50_FPN_3x/137849458/model_final_280758.pkl ...\n"
          ]
        },
        {
          "name": "stderr",
          "output_type": "stream",
          "text": [
            "model_final_280758.pkl: 167MB [00:01, 87.5MB/s]                           \n",
            "WARNING:fvcore.common.checkpoint:Skip loading parameter 'roi_heads.box_predictor.cls_score.weight' to the model due to incompatible shapes: (81, 1024) in the checkpoint but (11, 1024) in the model! You might want to double check if this is expected.\n",
            "WARNING:fvcore.common.checkpoint:Skip loading parameter 'roi_heads.box_predictor.cls_score.bias' to the model due to incompatible shapes: (81,) in the checkpoint but (11,) in the model! You might want to double check if this is expected.\n",
            "WARNING:fvcore.common.checkpoint:Skip loading parameter 'roi_heads.box_predictor.bbox_pred.weight' to the model due to incompatible shapes: (320, 1024) in the checkpoint but (40, 1024) in the model! You might want to double check if this is expected.\n",
            "WARNING:fvcore.common.checkpoint:Skip loading parameter 'roi_heads.box_predictor.bbox_pred.bias' to the model due to incompatible shapes: (320,) in the checkpoint but (40,) in the model! You might want to double check if this is expected.\n",
            "WARNING:fvcore.common.checkpoint:Some model parameters or buffers are not found in the checkpoint:\n",
            "roi_heads.box_predictor.bbox_pred.{bias, weight}\n",
            "roi_heads.box_predictor.cls_score.{bias, weight}\n"
          ]
        },
        {
          "name": "stdout",
          "output_type": "stream",
          "text": [
            "[04/10 23:29:07 d2.engine.train_loop]: Starting training from iteration 0\n"
          ]
        },
        {
          "name": "stderr",
          "output_type": "stream",
          "text": [
            "/usr/local/lib/python3.9/dist-packages/torch/functional.py:504: UserWarning: torch.meshgrid: in an upcoming release, it will be required to pass the indexing argument. (Triggered internally at ../aten/src/ATen/native/TensorShape.cpp:3483.)\n",
            "  return _VF.meshgrid(tensors, **kwargs)  # type: ignore[attr-defined]\n"
          ]
        },
        {
          "name": "stdout",
          "output_type": "stream",
          "text": [
            "[04/10 23:29:21 d2.utils.events]:  eta: 0:06:12  iter: 19  total_loss: 3.58  loss_cls: 2.418  loss_box_reg: 1.005  loss_rpn_cls: 0.09293  loss_rpn_loc: 0.06913    time: 0.3733  last_time: 0.3377  data_time: 0.0373  last_data_time: 0.0370   lr: 7.9924e-06  max_mem: 1745M\n",
            "[04/10 23:29:27 d2.utils.events]:  eta: 0:05:17  iter: 39  total_loss: 3.266  loss_cls: 2.176  loss_box_reg: 1.012  loss_rpn_cls: 0.04007  loss_rpn_loc: 0.03879    time: 0.3469  last_time: 0.2988  data_time: 0.0152  last_data_time: 0.0142   lr: 1.5984e-05  max_mem: 1745M\n",
            "[04/10 23:29:33 d2.utils.events]:  eta: 0:04:50  iter: 59  total_loss: 2.667  loss_cls: 1.597  loss_box_reg: 1.012  loss_rpn_cls: 0.02211  loss_rpn_loc: 0.04016    time: 0.3285  last_time: 0.3327  data_time: 0.0080  last_data_time: 0.0203   lr: 2.3976e-05  max_mem: 1746M\n",
            "[04/10 23:29:39 d2.utils.events]:  eta: 0:04:49  iter: 79  total_loss: 2.171  loss_cls: 1.079  loss_box_reg: 1.042  loss_rpn_cls: 0.01984  loss_rpn_loc: 0.0389    time: 0.3233  last_time: 0.3002  data_time: 0.0110  last_data_time: 0.0058   lr: 3.1968e-05  max_mem: 1746M\n",
            "[04/10 23:29:45 d2.utils.events]:  eta: 0:04:40  iter: 99  total_loss: 1.994  loss_cls: 0.918  loss_box_reg: 1.041  loss_rpn_cls: 0.006543  loss_rpn_loc: 0.03698    time: 0.3186  last_time: 0.3232  data_time: 0.0060  last_data_time: 0.0046   lr: 3.996e-05  max_mem: 1746M\n",
            "[04/10 23:29:51 d2.utils.events]:  eta: 0:04:33  iter: 119  total_loss: 1.859  loss_cls: 0.8369  loss_box_reg: 0.9803  loss_rpn_cls: 0.003087  loss_rpn_loc: 0.03445    time: 0.3162  last_time: 0.2620  data_time: 0.0132  last_data_time: 0.0046   lr: 4.7952e-05  max_mem: 1746M\n",
            "[04/10 23:29:57 d2.utils.events]:  eta: 0:04:26  iter: 139  total_loss: 1.847  loss_cls: 0.7986  loss_box_reg: 1.004  loss_rpn_cls: 0.002038  loss_rpn_loc: 0.02608    time: 0.3134  last_time: 0.3097  data_time: 0.0061  last_data_time: 0.0050   lr: 5.5944e-05  max_mem: 1747M\n",
            "[04/10 23:30:04 d2.utils.events]:  eta: 0:04:21  iter: 159  total_loss: 1.786  loss_cls: 0.7812  loss_box_reg: 0.983  loss_rpn_cls: 0.0008865  loss_rpn_loc: 0.02698    time: 0.3135  last_time: 0.3589  data_time: 0.0092  last_data_time: 0.0190   lr: 6.3936e-05  max_mem: 1747M\n",
            "[04/10 23:30:10 d2.utils.events]:  eta: 0:04:16  iter: 179  total_loss: 1.735  loss_cls: 0.7561  loss_box_reg: 0.9744  loss_rpn_cls: 0.0005019  loss_rpn_loc: 0.02339    time: 0.3140  last_time: 0.3567  data_time: 0.0097  last_data_time: 0.0146   lr: 7.1928e-05  max_mem: 1747M\n",
            "[04/10 23:30:17 d2.utils.events]:  eta: 0:04:11  iter: 199  total_loss: 1.713  loss_cls: 0.7428  loss_box_reg: 0.9256  loss_rpn_cls: 0.0007772  loss_rpn_loc: 0.02558    time: 0.3155  last_time: 0.3317  data_time: 0.0121  last_data_time: 0.0052   lr: 7.992e-05  max_mem: 1747M\n",
            "[04/10 23:30:23 d2.utils.events]:  eta: 0:04:06  iter: 219  total_loss: 1.708  loss_cls: 0.7301  loss_box_reg: 0.9537  loss_rpn_cls: 0.0003078  loss_rpn_loc: 0.02702    time: 0.3161  last_time: 0.3298  data_time: 0.0069  last_data_time: 0.0073   lr: 8.7912e-05  max_mem: 1747M\n",
            "[04/10 23:30:30 d2.utils.events]:  eta: 0:04:00  iter: 239  total_loss: 1.659  loss_cls: 0.7216  loss_box_reg: 0.917  loss_rpn_cls: 0.0005681  loss_rpn_loc: 0.02666    time: 0.3166  last_time: 0.2894  data_time: 0.0117  last_data_time: 0.0055   lr: 9.5904e-05  max_mem: 1747M\n",
            "[04/10 23:30:36 d2.utils.events]:  eta: 0:03:54  iter: 259  total_loss: 1.627  loss_cls: 0.7082  loss_box_reg: 0.8819  loss_rpn_cls: 0.0001326  loss_rpn_loc: 0.02317    time: 0.3164  last_time: 0.2855  data_time: 0.0080  last_data_time: 0.0076   lr: 0.0001039  max_mem: 1748M\n",
            "[04/10 23:30:42 d2.utils.events]:  eta: 0:03:48  iter: 279  total_loss: 1.592  loss_cls: 0.6972  loss_box_reg: 0.8687  loss_rpn_cls: 0.0002536  loss_rpn_loc: 0.02051    time: 0.3168  last_time: 0.2665  data_time: 0.0123  last_data_time: 0.0053   lr: 0.00011189  max_mem: 1748M\n",
            "[04/10 23:30:49 d2.utils.events]:  eta: 0:03:41  iter: 299  total_loss: 1.544  loss_cls: 0.714  loss_box_reg: 0.8351  loss_rpn_cls: 5.66e-05  loss_rpn_loc: 0.0144    time: 0.3173  last_time: 0.3232  data_time: 0.0097  last_data_time: 0.0052   lr: 0.00011988  max_mem: 1748M\n",
            "[04/10 23:30:55 d2.utils.events]:  eta: 0:03:35  iter: 319  total_loss: 1.507  loss_cls: 0.6925  loss_box_reg: 0.8126  loss_rpn_cls: 8.914e-05  loss_rpn_loc: 0.01934    time: 0.3175  last_time: 0.3065  data_time: 0.0139  last_data_time: 0.0051   lr: 0.00012787  max_mem: 1748M\n",
            "[04/10 23:31:01 d2.utils.events]:  eta: 0:03:29  iter: 339  total_loss: 1.46  loss_cls: 0.6928  loss_box_reg: 0.7639  loss_rpn_cls: 6.916e-05  loss_rpn_loc: 0.02269    time: 0.3170  last_time: 0.3342  data_time: 0.0092  last_data_time: 0.0052   lr: 0.00013586  max_mem: 1748M\n",
            "[04/10 23:31:07 d2.utils.events]:  eta: 0:03:22  iter: 359  total_loss: 1.419  loss_cls: 0.6945  loss_box_reg: 0.7182  loss_rpn_cls: 8.768e-05  loss_rpn_loc: 0.02186    time: 0.3162  last_time: 0.3406  data_time: 0.0105  last_data_time: 0.0049   lr: 0.00014386  max_mem: 1748M\n",
            "[04/10 23:31:13 d2.utils.events]:  eta: 0:03:15  iter: 379  total_loss: 1.357  loss_cls: 0.6805  loss_box_reg: 0.6747  loss_rpn_cls: 1.592e-05  loss_rpn_loc: 0.01901    time: 0.3154  last_time: 0.3092  data_time: 0.0071  last_data_time: 0.0044   lr: 0.00015185  max_mem: 1748M\n",
            "[04/10 23:31:20 d2.utils.events]:  eta: 0:03:09  iter: 399  total_loss: 1.296  loss_cls: 0.667  loss_box_reg: 0.6203  loss_rpn_cls: 4.356e-05  loss_rpn_loc: 0.01643    time: 0.3157  last_time: 0.3471  data_time: 0.0132  last_data_time: 0.0157   lr: 0.00015984  max_mem: 1748M\n",
            "[04/10 23:31:26 d2.utils.events]:  eta: 0:03:03  iter: 419  total_loss: 1.27  loss_cls: 0.6559  loss_box_reg: 0.6037  loss_rpn_cls: 0.0001004  loss_rpn_loc: 0.01991    time: 0.3150  last_time: 0.3237  data_time: 0.0074  last_data_time: 0.0133   lr: 0.00016783  max_mem: 1748M\n",
            "[04/10 23:31:32 d2.utils.events]:  eta: 0:02:57  iter: 439  total_loss: 1.264  loss_cls: 0.6277  loss_box_reg: 0.6162  loss_rpn_cls: 1.53e-05  loss_rpn_loc: 0.0138    time: 0.3154  last_time: 0.3221  data_time: 0.0115  last_data_time: 0.0076   lr: 0.00017582  max_mem: 1748M\n",
            "[04/10 23:31:38 d2.utils.events]:  eta: 0:02:50  iter: 459  total_loss: 1.172  loss_cls: 0.5867  loss_box_reg: 0.558  loss_rpn_cls: 7.403e-07  loss_rpn_loc: 0.01419    time: 0.3146  last_time: 0.2650  data_time: 0.0102  last_data_time: 0.0070   lr: 0.00018382  max_mem: 1748M\n",
            "[04/10 23:31:45 d2.utils.events]:  eta: 0:02:44  iter: 479  total_loss: 1.116  loss_cls: 0.5687  loss_box_reg: 0.5321  loss_rpn_cls: 4.035e-06  loss_rpn_loc: 0.01776    time: 0.3142  last_time: 0.3285  data_time: 0.0128  last_data_time: 0.0047   lr: 0.00019181  max_mem: 1748M\n",
            "[04/10 23:31:51 d2.utils.events]:  eta: 0:02:37  iter: 499  total_loss: 1.082  loss_cls: 0.5781  loss_box_reg: 0.4995  loss_rpn_cls: 6.525e-06  loss_rpn_loc: 0.01792    time: 0.3139  last_time: 0.2860  data_time: 0.0076  last_data_time: 0.0116   lr: 0.0001998  max_mem: 1748M\n",
            "[04/10 23:31:57 d2.utils.events]:  eta: 0:02:31  iter: 519  total_loss: 1.001  loss_cls: 0.5546  loss_box_reg: 0.4085  loss_rpn_cls: 2.442e-06  loss_rpn_loc: 0.01866    time: 0.3140  last_time: 0.3434  data_time: 0.0121  last_data_time: 0.0047   lr: 0.00020779  max_mem: 1748M\n",
            "[04/10 23:32:03 d2.utils.events]:  eta: 0:02:25  iter: 539  total_loss: 0.9334  loss_cls: 0.5055  loss_box_reg: 0.4042  loss_rpn_cls: 2.736e-06  loss_rpn_loc: 0.01811    time: 0.3139  last_time: 0.3214  data_time: 0.0084  last_data_time: 0.0076   lr: 0.00021578  max_mem: 1748M\n",
            "[04/10 23:32:10 d2.utils.events]:  eta: 0:02:19  iter: 559  total_loss: 0.9584  loss_cls: 0.5509  loss_box_reg: 0.3636  loss_rpn_cls: 8.265e-06  loss_rpn_loc: 0.01791    time: 0.3141  last_time: 0.2683  data_time: 0.0108  last_data_time: 0.0117   lr: 0.00022378  max_mem: 1748M\n",
            "[04/10 23:32:16 d2.utils.events]:  eta: 0:02:12  iter: 579  total_loss: 0.8675  loss_cls: 0.4742  loss_box_reg: 0.3531  loss_rpn_cls: 5.355e-06  loss_rpn_loc: 0.02987    time: 0.3139  last_time: 0.3210  data_time: 0.0061  last_data_time: 0.0048   lr: 0.00023177  max_mem: 1748M\n",
            "[04/10 23:32:22 d2.utils.events]:  eta: 0:02:06  iter: 599  total_loss: 0.7741  loss_cls: 0.4225  loss_box_reg: 0.3008  loss_rpn_cls: 2.538e-05  loss_rpn_loc: 0.02084    time: 0.3136  last_time: 0.2675  data_time: 0.0131  last_data_time: 0.0058   lr: 0.00023976  max_mem: 1748M\n",
            "[04/10 23:32:28 d2.utils.events]:  eta: 0:02:00  iter: 619  total_loss: 0.8047  loss_cls: 0.4335  loss_box_reg: 0.3313  loss_rpn_cls: 2.771e-05  loss_rpn_loc: 0.02547    time: 0.3135  last_time: 0.2621  data_time: 0.0062  last_data_time: 0.0048   lr: 0.00024775  max_mem: 1748M\n",
            "[04/10 23:32:34 d2.utils.events]:  eta: 0:01:53  iter: 639  total_loss: 0.7788  loss_cls: 0.4347  loss_box_reg: 0.3119  loss_rpn_cls: 4.346e-06  loss_rpn_loc: 0.01933    time: 0.3135  last_time: 0.3373  data_time: 0.0122  last_data_time: 0.0196   lr: 0.00025574  max_mem: 1748M\n",
            "[04/10 23:32:41 d2.utils.events]:  eta: 0:01:47  iter: 659  total_loss: 0.6755  loss_cls: 0.3771  loss_box_reg: 0.2822  loss_rpn_cls: 1.121e-05  loss_rpn_loc: 0.01444    time: 0.3134  last_time: 0.2804  data_time: 0.0092  last_data_time: 0.0053   lr: 0.00026374  max_mem: 1748M\n",
            "[04/10 23:32:47 d2.utils.events]:  eta: 0:01:41  iter: 679  total_loss: 0.6968  loss_cls: 0.3886  loss_box_reg: 0.2914  loss_rpn_cls: 3.787e-05  loss_rpn_loc: 0.01534    time: 0.3131  last_time: 0.3336  data_time: 0.0094  last_data_time: 0.0141   lr: 0.00027173  max_mem: 1748M\n",
            "[04/10 23:32:53 d2.utils.events]:  eta: 0:01:34  iter: 699  total_loss: 0.6746  loss_cls: 0.3485  loss_box_reg: 0.2789  loss_rpn_cls: 2.183e-05  loss_rpn_loc: 0.0162    time: 0.3129  last_time: 0.3393  data_time: 0.0091  last_data_time: 0.0061   lr: 0.00027972  max_mem: 1748M\n",
            "[04/10 23:32:59 d2.utils.events]:  eta: 0:01:28  iter: 719  total_loss: 0.6358  loss_cls: 0.3383  loss_box_reg: 0.2793  loss_rpn_cls: 3.89e-05  loss_rpn_loc: 0.01544    time: 0.3130  last_time: 0.3250  data_time: 0.0076  last_data_time: 0.0052   lr: 0.00028771  max_mem: 1748M\n",
            "[04/10 23:33:06 d2.utils.events]:  eta: 0:01:22  iter: 739  total_loss: 0.6157  loss_cls: 0.3261  loss_box_reg: 0.2833  loss_rpn_cls: 2.246e-05  loss_rpn_loc: 0.01615    time: 0.3130  last_time: 0.3254  data_time: 0.0073  last_data_time: 0.0051   lr: 0.0002957  max_mem: 1748M\n",
            "[04/10 23:33:12 d2.utils.events]:  eta: 0:01:15  iter: 759  total_loss: 0.617  loss_cls: 0.2831  loss_box_reg: 0.2858  loss_rpn_cls: 2.393e-05  loss_rpn_loc: 0.01767    time: 0.3129  last_time: 0.3189  data_time: 0.0076  last_data_time: 0.0175   lr: 0.0003037  max_mem: 1748M\n",
            "[04/10 23:33:18 d2.utils.events]:  eta: 0:01:09  iter: 779  total_loss: 0.5892  loss_cls: 0.2969  loss_box_reg: 0.2867  loss_rpn_cls: 4.479e-05  loss_rpn_loc: 0.0176    time: 0.3129  last_time: 0.3060  data_time: 0.0110  last_data_time: 0.0104   lr: 0.00031169  max_mem: 1748M\n",
            "[04/10 23:33:24 d2.utils.events]:  eta: 0:01:03  iter: 799  total_loss: 0.5532  loss_cls: 0.2627  loss_box_reg: 0.2632  loss_rpn_cls: 3.732e-05  loss_rpn_loc: 0.01543    time: 0.3129  last_time: 0.3245  data_time: 0.0087  last_data_time: 0.0190   lr: 0.00031968  max_mem: 1748M\n",
            "[04/10 23:33:30 d2.utils.events]:  eta: 0:00:56  iter: 819  total_loss: 0.4777  loss_cls: 0.2484  loss_box_reg: 0.2296  loss_rpn_cls: 3.28e-05  loss_rpn_loc: 0.01299    time: 0.3127  last_time: 0.3186  data_time: 0.0115  last_data_time: 0.0051   lr: 0.00032767  max_mem: 1748M\n",
            "[04/10 23:33:37 d2.utils.events]:  eta: 0:00:50  iter: 839  total_loss: 0.5659  loss_cls: 0.3037  loss_box_reg: 0.2482  loss_rpn_cls: 2.879e-05  loss_rpn_loc: 0.01313    time: 0.3127  last_time: 0.2910  data_time: 0.0079  last_data_time: 0.0162   lr: 0.00033566  max_mem: 1748M\n",
            "[04/10 23:33:43 d2.utils.events]:  eta: 0:00:44  iter: 859  total_loss: 0.4615  loss_cls: 0.2042  loss_box_reg: 0.2529  loss_rpn_cls: 1.724e-05  loss_rpn_loc: 0.01641    time: 0.3127  last_time: 0.2802  data_time: 0.0105  last_data_time: 0.0055   lr: 0.00034366  max_mem: 1748M\n",
            "[04/10 23:33:49 d2.utils.events]:  eta: 0:00:37  iter: 879  total_loss: 0.4704  loss_cls: 0.2404  loss_box_reg: 0.2325  loss_rpn_cls: 1.299e-05  loss_rpn_loc: 0.01547    time: 0.3125  last_time: 0.3241  data_time: 0.0073  last_data_time: 0.0051   lr: 0.00035165  max_mem: 1748M\n",
            "[04/10 23:33:55 d2.utils.events]:  eta: 0:00:31  iter: 899  total_loss: 0.5048  loss_cls: 0.2555  loss_box_reg: 0.2334  loss_rpn_cls: 3.843e-05  loss_rpn_loc: 0.01608    time: 0.3126  last_time: 0.3047  data_time: 0.0094  last_data_time: 0.0070   lr: 0.00035964  max_mem: 1748M\n",
            "[04/10 23:34:01 d2.utils.events]:  eta: 0:00:25  iter: 919  total_loss: 0.4806  loss_cls: 0.2406  loss_box_reg: 0.2209  loss_rpn_cls: 5.014e-05  loss_rpn_loc: 0.01437    time: 0.3124  last_time: 0.3390  data_time: 0.0061  last_data_time: 0.0063   lr: 0.00036763  max_mem: 1748M\n",
            "[04/10 23:34:08 d2.utils.events]:  eta: 0:00:18  iter: 939  total_loss: 0.4495  loss_cls: 0.2263  loss_box_reg: 0.2094  loss_rpn_cls: 7.54e-05  loss_rpn_loc: 0.01648    time: 0.3125  last_time: 0.3201  data_time: 0.0138  last_data_time: 0.0047   lr: 0.00037562  max_mem: 1748M\n",
            "[04/10 23:34:14 d2.utils.events]:  eta: 0:00:12  iter: 959  total_loss: 0.4299  loss_cls: 0.2057  loss_box_reg: 0.2157  loss_rpn_cls: 5.222e-05  loss_rpn_loc: 0.01473    time: 0.3122  last_time: 0.3251  data_time: 0.0072  last_data_time: 0.0058   lr: 0.00038362  max_mem: 1748M\n",
            "[04/10 23:34:20 d2.utils.events]:  eta: 0:00:06  iter: 979  total_loss: 0.4608  loss_cls: 0.2347  loss_box_reg: 0.2212  loss_rpn_cls: 3.199e-05  loss_rpn_loc: 0.01297    time: 0.3124  last_time: 0.3237  data_time: 0.0136  last_data_time: 0.0049   lr: 0.00039161  max_mem: 1748M\n",
            "[04/10 23:34:27 d2.utils.events]:  eta: 0:00:00  iter: 999  total_loss: 0.4295  loss_cls: 0.1984  loss_box_reg: 0.1953  loss_rpn_cls: 3.955e-05  loss_rpn_loc: 0.01565    time: 0.3121  last_time: 0.2846  data_time: 0.0068  last_data_time: 0.0091   lr: 0.0003996  max_mem: 1748M\n",
            "[04/10 23:34:28 d2.engine.hooks]: Overall training speed: 998 iterations in 0:05:11 (0.3122 s / it)\n",
            "[04/10 23:34:28 d2.engine.hooks]: Total training time: 0:05:13 (0:00:02 on hooks)\n"
          ]
        }
      ],
      "source": [
        "import torch\n",
        "TORCH_VERSION = \".\".join(torch.__version__.split(\".\")[:2])\n",
        "CUDA_VERSION = torch.__version__.split(\"+\")[-1]\n",
        "print(\"torch: \", TORCH_VERSION, \"; cuda: \", CUDA_VERSION)\n",
        "#!pip install detectron2 -f https://dl.fbaipublicfiles.com/detectron2/wheels/$CUDA_VERSION/torch$TORCH_VERSION/index.html\n",
        "\n",
        "import detectron2\n",
        "from detectron2.utils.logger import setup_logger\n",
        "setup_logger()\n",
        "\n",
        "import numpy as np\n",
        "import os, json, cv2, random\n",
        "from google.colab.patches import cv2_imshow\n",
        "from detectron2 import model_zoo\n",
        "from detectron2.engine import DefaultPredictor, DefaultTrainer\n",
        "from detectron2.config import get_cfg\n",
        "from detectron2.utils.visualizer import Visualizer, ColorMode\n",
        "from detectron2.data import MetadataCatalog, DatasetCatalog\n",
        "from detectron2.data.datasets import register_coco_instances\n",
        "\n",
        "\n",
        "## Entraînement du modèle\n",
        "# On utilise la configuration du modèle faster_rcnn_R_50_FPN_3x.yaml pour entraîner le modèle\n",
        "cfg = get_cfg()\n",
        "cfg.merge_from_file(model_zoo.get_config_file(\"COCO-Detection/faster_rcnn_R_50_FPN_3x.yaml\"))\n",
        "# On utilise les données d'entraînement enregistrées précédemment\n",
        "cfg.DATASETS.TRAIN = (\"mnist_detection_train\",) \n",
        "cfg.DATASETS.TEST = ()\n",
        "cfg.DATALOADER.NUM_WORKERS = 2\n",
        "# On utilise les poids pré-entraînés pour le modèle faster_rcnn_R_50_FPN_3x\n",
        "cfg.MODEL.WEIGHTS = model_zoo.get_checkpoint_url(\"COCO-Detection/faster_rcnn_R_50_FPN_3x.yaml\")\n",
        "cfg.SOLVER.IMS_PER_BATCH = 2\n",
        "cfg.SOLVER.BASE_LR = 0.0004\n",
        "cfg.SOLVER.MAX_ITER = (1000)\n",
        "cfg.MODEL.ROI_HEADS.BATCH_SIZE_PER_IMAGE = (128)\n",
        "cfg.MODEL.ROI_HEADS.NUM_CLASSES = 10\n",
        "# On crée le dossier de sortie si il n'existe pas\n",
        "os.makedirs(cfg.OUTPUT_DIR, exist_ok=True)\n",
        "# On crée un entraîneur avec la configuration définie ci-dessus\n",
        "trainer = DefaultTrainer(cfg)\n",
        "# On commence l'entraînement\n",
        "trainer.resume_or_load(resume=False)\n",
        "dictionnary=trainer.train()"
      ]
    },
    {
      "cell_type": "markdown",
      "metadata": {
        "id": "tdiQiL1M7roQ"
      },
      "source": [
        "# Partie 4 : Model Evaluation\n",
        "Après l'entraînement, il faut évaluer les performances du modèle sur un ensemble de données de test. Cela permet de mesurer la précision du modèle dans la détection des objets."
      ]
    },
    {
      "cell_type": "code",
      "execution_count": 8,
      "metadata": {
        "colab": {
          "base_uri": "https://localhost:8080/",
          "height": 681
        },
        "id": "qN58l31cOTBr",
        "outputId": "600f777e-67a3-4897-b12c-234f0ace7295"
      },
      "outputs": [
        {
          "name": "stdout",
          "output_type": "stream",
          "text": [
            "[04/10 23:34:29 d2.checkpoint.detection_checkpoint]: [DetectionCheckpointer] Loading from ./output/model_final.pth ...\n",
            "Test_x/image_5.png\n"
          ]
        },
        {
          "data": {
            "image/png": "[encoded data removed]",
            "text/plain": [
              "<PIL.Image.Image image mode=RGB size=368x112 at 0x7F3430129700>"
            ]
          },
          "metadata": {},
          "output_type": "display_data"
        },
        {
          "name": "stdout",
          "output_type": "stream",
          "text": [
            "Test_x/image_11.png\n"
          ]
        },
        {
          "data": {
            "image/png": "[encoded data removed]",
            "text/plain": [
              "<PIL.Image.Image image mode=RGB size=416x112 at 0x7F342C95DCA0>"
            ]
          },
          "metadata": {},
          "output_type": "display_data"
        },
        {
          "name": "stdout",
          "output_type": "stream",
          "text": [
            "Test_x/image_19.png\n"
          ]
        },
        {
          "data": {
            "image/png": "[encoded data removed]",
            "text/plain": [
              "<PIL.Image.Image image mode=RGB size=416x112 at 0x7F342F9E2D30>"
            ]
          },
          "metadata": {},
          "output_type": "display_data"
        },
        {
          "name": "stdout",
          "output_type": "stream",
          "text": [
            "Test_x/image_10.png\n"
          ]
        },
        {
          "data": {
            "image/png": "[encoded data removed]",
            "text/plain": [
              "<PIL.Image.Image image mode=RGB size=336x112 at 0x7F342BD89E20>"
            ]
          },
          "metadata": {},
          "output_type": "display_data"
        },
        {
          "name": "stdout",
          "output_type": "stream",
          "text": [
            "Test_x/image_3.png\n"
          ]
        },
        {
          "data": {
            "image/png": "[encoded data removed]",
            "text/plain": [
              "<PIL.Image.Image image mode=RGB size=416x112 at 0x7F342D58CB20>"
            ]
          },
          "metadata": {},
          "output_type": "display_data"
        }
      ],
      "source": [
        "from random import randint\n",
        "from detectron2.utils.visualizer import Visualizer\n",
        "from detectron2.data import MetadataCatalog\n",
        "import cv2\n",
        "from random import randint\n",
        "cfg.MODEL.WEIGHTS = os.path.join(cfg.OUTPUT_DIR, \"model_final.pth\")\n",
        "cfg.MODEL.ROI_HEADS.SCORE_THRESH_TEST = 0.6\n",
        "predictor = DefaultPredictor(cfg)\n",
        "\n",
        "mnist_detection_metadata = MetadataCatalog.get(\"mnist_detection_test\")\n",
        "for _ in range(5):\n",
        "    t = randint(1,20)\n",
        "    print(f\"Test_x/image_{str(t)}.png\")\n",
        "    im = cv2.imread(f\"Test_x/image_{str(t)}.png\")\n",
        "    outputs = predictor(im)\n",
        "    instances = outputs[\"instances\"].to(\"cpu\")\n",
        "    boxes = instances.pred_boxes.tensor.numpy()\n",
        "    scores = instances.scores.numpy()\n",
        "    classes = instances.pred_classes.numpy()\n",
        "    v = Visualizer(im[:, :, ::-1],\n",
        "                   metadata=mnist_detection_metadata,\n",
        "                   scale=4.0\n",
        "    )\n",
        "    # On écrit le label et on dessine le contour pour chaque chiffre\n",
        "    for i in range(len(boxes)):\n",
        "        bbox = boxes[i]\n",
        "        score = scores[i]\n",
        "        x_center = bbox[0] + bbox[2] / 4\n",
        "        y_center = bbox[1] + bbox[3] / 6.5\n",
        "        color = random_color(rgb=True, maximum=1)\n",
        "        vis = v.draw_box(bbox, edge_color=color)\n",
        "        vis = v.draw_text(f\"{classes[i]} ({score:.2f})\", (x_center, y_center), color=color)\n",
        "        \n",
        "    cv2_imshow(vis.get_image()[:, :, ::-1])\n"
      ]
    },
    {
      "cell_type": "code",
      "execution_count": 9,
      "metadata": {
        "colab": {
          "base_uri": "https://localhost:8080/"
        },
        "id": "a_MoUdk3jLTs",
        "outputId": "338afaae-0f8e-4082-bb99-80264bd0e964"
      },
      "outputs": [
        {
          "name": "stdout",
          "output_type": "stream",
          "text": [
            "WARNING [04/10 23:34:30 d2.data.datasets.coco]: \n",
            "Category ids in annotations are not in [1, #categories]! We'll apply a mapping for you.\n",
            "\n",
            "[04/10 23:34:30 d2.data.datasets.coco]: Loaded 2000 images in COCO format from coco_test.json\n",
            "[04/10 23:34:30 d2.data.build]: Distribution of instances among all 10 categories:\n",
            "|  category  | #instances   |  category  | #instances   |  category  | #instances   |\n",
            "|:----------:|:-------------|:----------:|:-------------|:----------:|:-------------|\n",
            "|    zero    | 980          |    one     | 1135         |    two     | 1032         |\n",
            "|   three    | 1010         |    four    | 982          |    five    | 892          |\n",
            "|    six     | 958          |   seven    | 1028         |   eight    | 974          |\n",
            "|    nine    | 1009         |            |              |            |              |\n",
            "|   total    | 10000        |            |              |            |              |\n",
            "[04/10 23:34:30 d2.data.dataset_mapper]: [DatasetMapper] Augmentations used in inference: [ResizeShortestEdge(short_edge_length=(800, 800), max_size=1333, sample_style='choice')]\n",
            "[04/10 23:34:30 d2.data.common]: Serializing the dataset using: <class 'detectron2.data.common._TorchSerializedList'>\n",
            "[04/10 23:34:30 d2.data.common]: Serializing 2000 elements to byte tensors and concatenating them all ...\n",
            "[04/10 23:34:30 d2.data.common]: Serialized dataset takes 0.71 MiB\n",
            "[04/10 23:34:30 d2.evaluation.evaluator]: Start inference on 2000 batches\n",
            "[04/10 23:34:31 d2.evaluation.evaluator]: Inference done 11/2000. Dataloading: 0.0014 s/iter. Inference: 0.0724 s/iter. Eval: 0.0002 s/iter. Total: 0.0740 s/iter. ETA=0:02:27\n",
            "[04/10 23:34:36 d2.evaluation.evaluator]: Inference done 80/2000. Dataloading: 0.0015 s/iter. Inference: 0.0715 s/iter. Eval: 0.0002 s/iter. Total: 0.0733 s/iter. ETA=0:02:20\n",
            "[04/10 23:34:41 d2.evaluation.evaluator]: Inference done 150/2000. Dataloading: 0.0021 s/iter. Inference: 0.0703 s/iter. Eval: 0.0003 s/iter. Total: 0.0728 s/iter. ETA=0:02:14\n",
            "[04/10 23:34:46 d2.evaluation.evaluator]: Inference done 217/2000. Dataloading: 0.0028 s/iter. Inference: 0.0704 s/iter. Eval: 0.0003 s/iter. Total: 0.0735 s/iter. ETA=0:02:10\n",
            "[04/10 23:34:51 d2.evaluation.evaluator]: Inference done 286/2000. Dataloading: 0.0025 s/iter. Inference: 0.0706 s/iter. Eval: 0.0003 s/iter. Total: 0.0734 s/iter. ETA=0:02:05\n",
            "[04/10 23:34:56 d2.evaluation.evaluator]: Inference done 353/2000. Dataloading: 0.0031 s/iter. Inference: 0.0704 s/iter. Eval: 0.0003 s/iter. Total: 0.0738 s/iter. ETA=0:02:01\n",
            "[04/10 23:35:02 d2.evaluation.evaluator]: Inference done 421/2000. Dataloading: 0.0028 s/iter. Inference: 0.0707 s/iter. Eval: 0.0003 s/iter. Total: 0.0738 s/iter. ETA=0:01:56\n",
            "[04/10 23:35:07 d2.evaluation.evaluator]: Inference done 490/2000. Dataloading: 0.0027 s/iter. Inference: 0.0707 s/iter. Eval: 0.0003 s/iter. Total: 0.0737 s/iter. ETA=0:01:51\n",
            "[04/10 23:35:12 d2.evaluation.evaluator]: Inference done 556/2000. Dataloading: 0.0030 s/iter. Inference: 0.0706 s/iter. Eval: 0.0003 s/iter. Total: 0.0740 s/iter. ETA=0:01:46\n",
            "[04/10 23:35:17 d2.evaluation.evaluator]: Inference done 625/2000. Dataloading: 0.0029 s/iter. Inference: 0.0706 s/iter. Eval: 0.0003 s/iter. Total: 0.0738 s/iter. ETA=0:01:41\n",
            "[04/10 23:35:22 d2.evaluation.evaluator]: Inference done 693/2000. Dataloading: 0.0031 s/iter. Inference: 0.0704 s/iter. Eval: 0.0003 s/iter. Total: 0.0738 s/iter. ETA=0:01:36\n",
            "[04/10 23:35:27 d2.evaluation.evaluator]: Inference done 763/2000. Dataloading: 0.0030 s/iter. Inference: 0.0703 s/iter. Eval: 0.0003 s/iter. Total: 0.0737 s/iter. ETA=0:01:31\n",
            "[04/10 23:35:32 d2.evaluation.evaluator]: Inference done 834/2000. Dataloading: 0.0028 s/iter. Inference: 0.0703 s/iter. Eval: 0.0003 s/iter. Total: 0.0735 s/iter. ETA=0:01:25\n",
            "[04/10 23:35:37 d2.evaluation.evaluator]: Inference done 899/2000. Dataloading: 0.0031 s/iter. Inference: 0.0703 s/iter. Eval: 0.0003 s/iter. Total: 0.0737 s/iter. ETA=0:01:21\n",
            "[04/10 23:35:42 d2.evaluation.evaluator]: Inference done 969/2000. Dataloading: 0.0030 s/iter. Inference: 0.0703 s/iter. Eval: 0.0003 s/iter. Total: 0.0736 s/iter. ETA=0:01:15\n",
            "[04/10 23:35:47 d2.evaluation.evaluator]: Inference done 1038/2000. Dataloading: 0.0030 s/iter. Inference: 0.0702 s/iter. Eval: 0.0003 s/iter. Total: 0.0736 s/iter. ETA=0:01:10\n",
            "[04/10 23:35:52 d2.evaluation.evaluator]: Inference done 1108/2000. Dataloading: 0.0030 s/iter. Inference: 0.0702 s/iter. Eval: 0.0003 s/iter. Total: 0.0735 s/iter. ETA=0:01:05\n",
            "[04/10 23:35:57 d2.evaluation.evaluator]: Inference done 1177/2000. Dataloading: 0.0029 s/iter. Inference: 0.0702 s/iter. Eval: 0.0003 s/iter. Total: 0.0735 s/iter. ETA=0:01:00\n",
            "[04/10 23:36:02 d2.evaluation.evaluator]: Inference done 1243/2000. Dataloading: 0.0031 s/iter. Inference: 0.0702 s/iter. Eval: 0.0003 s/iter. Total: 0.0736 s/iter. ETA=0:00:55\n",
            "[04/10 23:36:07 d2.evaluation.evaluator]: Inference done 1313/2000. Dataloading: 0.0030 s/iter. Inference: 0.0702 s/iter. Eval: 0.0003 s/iter. Total: 0.0735 s/iter. ETA=0:00:50\n",
            "[04/10 23:36:12 d2.evaluation.evaluator]: Inference done 1381/2000. Dataloading: 0.0029 s/iter. Inference: 0.0703 s/iter. Eval: 0.0003 s/iter. Total: 0.0736 s/iter. ETA=0:00:45\n",
            "[04/10 23:36:17 d2.evaluation.evaluator]: Inference done 1448/2000. Dataloading: 0.0030 s/iter. Inference: 0.0703 s/iter. Eval: 0.0003 s/iter. Total: 0.0736 s/iter. ETA=0:00:40\n",
            "[04/10 23:36:22 d2.evaluation.evaluator]: Inference done 1513/2000. Dataloading: 0.0030 s/iter. Inference: 0.0705 s/iter. Eval: 0.0003 s/iter. Total: 0.0738 s/iter. ETA=0:00:35\n",
            "[04/10 23:36:27 d2.evaluation.evaluator]: Inference done 1579/2000. Dataloading: 0.0031 s/iter. Inference: 0.0705 s/iter. Eval: 0.0003 s/iter. Total: 0.0739 s/iter. ETA=0:00:31\n",
            "[04/10 23:36:32 d2.evaluation.evaluator]: Inference done 1649/2000. Dataloading: 0.0030 s/iter. Inference: 0.0705 s/iter. Eval: 0.0003 s/iter. Total: 0.0739 s/iter. ETA=0:00:25\n",
            "[04/10 23:36:37 d2.evaluation.evaluator]: Inference done 1720/2000. Dataloading: 0.0030 s/iter. Inference: 0.0704 s/iter. Eval: 0.0003 s/iter. Total: 0.0737 s/iter. ETA=0:00:20\n",
            "[04/10 23:36:42 d2.evaluation.evaluator]: Inference done 1786/2000. Dataloading: 0.0031 s/iter. Inference: 0.0704 s/iter. Eval: 0.0003 s/iter. Total: 0.0739 s/iter. ETA=0:00:15\n",
            "[04/10 23:36:47 d2.evaluation.evaluator]: Inference done 1856/2000. Dataloading: 0.0030 s/iter. Inference: 0.0704 s/iter. Eval: 0.0003 s/iter. Total: 0.0738 s/iter. ETA=0:00:10\n",
            "[04/10 23:36:52 d2.evaluation.evaluator]: Inference done 1925/2000. Dataloading: 0.0030 s/iter. Inference: 0.0704 s/iter. Eval: 0.0003 s/iter. Total: 0.0738 s/iter. ETA=0:00:05\n",
            "[04/10 23:36:57 d2.evaluation.evaluator]: Inference done 1996/2000. Dataloading: 0.0030 s/iter. Inference: 0.0703 s/iter. Eval: 0.0003 s/iter. Total: 0.0737 s/iter. ETA=0:00:00\n",
            "[04/10 23:36:58 d2.evaluation.evaluator]: Total inference time: 0:02:27.002958 (0.073686 s / iter per device, on 1 devices)\n",
            "[04/10 23:36:58 d2.evaluation.evaluator]: Total inference pure compute time: 0:02:20 (0.070312 s / iter per device, on 1 devices)\n",
            "[04/10 23:36:58 d2.evaluation.coco_evaluation]: Preparing results for COCO format ...\n",
            "[04/10 23:36:58 d2.evaluation.coco_evaluation]: Saving results to ./output/coco_instances_results.json\n",
            "[04/10 23:36:58 d2.evaluation.coco_evaluation]: Evaluating predictions with unofficial COCO API...\n",
            "Loading and preparing results...\n",
            "DONE (t=0.02s)\n",
            "creating index...\n",
            "index created!\n",
            "[04/10 23:36:58 d2.evaluation.fast_eval_api]: Evaluate annotation type *bbox*\n",
            "[04/10 23:36:59 d2.evaluation.fast_eval_api]: COCOeval_opt.evaluate() finished in 0.59 seconds.\n",
            "[04/10 23:36:59 d2.evaluation.fast_eval_api]: Accumulating evaluation results...\n",
            "[04/10 23:36:59 d2.evaluation.fast_eval_api]: COCOeval_opt.accumulate() finished in 0.07 seconds.\n",
            " Average Precision  (AP) @[ IoU=0.50:0.95 | area=   all | maxDets=100 ] = 0.718\n",
            " Average Precision  (AP) @[ IoU=0.50      | area=   all | maxDets=100 ] = 0.846\n",
            " Average Precision  (AP) @[ IoU=0.75      | area=   all | maxDets=100 ] = 0.840\n",
            " Average Precision  (AP) @[ IoU=0.50:0.95 | area= small | maxDets=100 ] = -1.000\n",
            " Average Precision  (AP) @[ IoU=0.50:0.95 | area=medium | maxDets=100 ] = 0.765\n",
            " Average Precision  (AP) @[ IoU=0.50:0.95 | area= large | maxDets=100 ] = -1.000\n",
            " Average Recall     (AR) @[ IoU=0.50:0.95 | area=   all | maxDets=  1 ] = 0.659\n",
            " Average Recall     (AR) @[ IoU=0.50:0.95 | area=   all | maxDets= 10 ] = 0.767\n",
            " Average Recall     (AR) @[ IoU=0.50:0.95 | area=   all | maxDets=100 ] = 0.767\n",
            " Average Recall     (AR) @[ IoU=0.50:0.95 | area= small | maxDets=100 ] = -1.000\n",
            " Average Recall     (AR) @[ IoU=0.50:0.95 | area=medium | maxDets=100 ] = 0.767\n",
            " Average Recall     (AR) @[ IoU=0.50:0.95 | area= large | maxDets=100 ] = -1.000\n",
            "[04/10 23:36:59 d2.evaluation.coco_evaluation]: Evaluation results for bbox: \n",
            "|   AP   |  AP50  |  AP75  |  APs  |  APm   |  APl  |\n",
            "|:------:|:------:|:------:|:-----:|:------:|:-----:|\n",
            "| 71.820 | 84.583 | 84.012 |  nan  | 76.513 |  nan  |\n",
            "[04/10 23:36:59 d2.evaluation.coco_evaluation]: Some metrics cannot be computed and is shown as NaN.\n",
            "[04/10 23:36:59 d2.evaluation.coco_evaluation]: Per-category bbox AP: \n",
            "| category   | AP     | category   | AP     | category   | AP     |\n",
            "|:-----------|:-------|:-----------|:-------|:-----------|:-------|\n",
            "| zero       | 80.862 | one        | 88.284 | two        | 60.049 |\n",
            "| three      | 72.096 | four       | 70.159 | five       | 55.979 |\n",
            "| six        | 62.506 | seven      | 75.253 | eight      | 75.247 |\n",
            "| nine       | 77.769 |            |        |            |        |\n",
            "OrderedDict([('bbox', {'AP': 71.82042623779368, 'AP50': 84.58301856137193, 'AP75': 84.01158574867257, 'APs': nan, 'APm': 76.5134740309558, 'APl': nan, 'AP-zero': 80.86190849980959, 'AP-one': 88.28365405720872, 'AP-two': 60.04943121067772, 'AP-three': 72.09627918599165, 'AP-four': 70.15885741183348, 'AP-five': 55.97898353415529, 'AP-six': 62.50617132836515, 'AP-seven': 75.25267375537375, 'AP-eight': 75.24690371979663, 'AP-nine': 77.76939967472494})])\n"
          ]
        }
      ],
      "source": [
        "from detectron2.evaluation import COCOEvaluator, inference_on_dataset\n",
        "from detectron2.data import build_detection_test_loader\n",
        "mnist_detection_metadata = MetadataCatalog.get(\"mnist_detection_test\")\n",
        "mnist_detection_metadata.thing_classes = ['zero', 'one', 'two', 'three', 'four', 'five', 'six', 'seven', 'eight', 'nine']\n",
        "#On crée une instance de COCOEvaluator pour évaluer la performance du modèle de détection.\n",
        "evaluator = COCOEvaluator(\"mnist_detection_test\", output_dir=\"./output\")\n",
        "#On construit un chargeur de données de test pour le modèle.\n",
        "val_loader = build_detection_test_loader(cfg, \"mnist_detection_test\")\n",
        "print(inference_on_dataset(predictor.model, val_loader, evaluator))"
      ]
    },
    {
      "cell_type": "markdown",
      "metadata": {
        "id": "ThaIt9PL6OB3"
      },
      "source": []
    }
  ],
  "metadata": {
    "accelerator": "GPU",
    "colab": {
      "provenance": []
    },
    "gpuClass": "standard",
    "kernelspec": {
      "display_name": "Python 3",
      "name": "python3"
    },
    "language_info": {
      "name": "python"
    }
  },
  "nbformat": 4,
  "nbformat_minor": 0
}
